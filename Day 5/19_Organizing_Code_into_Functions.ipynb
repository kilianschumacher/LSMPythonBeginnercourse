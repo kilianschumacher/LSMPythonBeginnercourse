{
 "cells": [
  {
   "cell_type": "code",
   "execution_count": 1,
   "id": "sexual-modeling",
   "metadata": {},
   "outputs": [],
   "source": [
    "# This \"re-imports\" a package automatically, and will make it more straightforward\n",
    "# to practice writing importable modules without needing to reload the kernel\n",
    "%load_ext autoreload\n",
    "%autoreload 2"
   ]
  },
  {
   "cell_type": "markdown",
   "id": "incorrect-saying",
   "metadata": {},
   "source": [
    "# Organizing Code into Functions"
   ]
  },
  {
   "cell_type": "markdown",
   "id": "based-increase",
   "metadata": {},
   "source": [
    "### Making One-Line Functions with `lambda`\n",
    "\n",
    "#### Creating the Function\n",
    "\n",
    "```python\n",
    "add1 = lambda x: x + 1  # add1 is the name of the function, x is the input, x + 1 is the output\n",
    "```\n",
    "\n",
    "```python\n",
    "diff = lambda x, y: x - y  # diff is the name of the function, x and y are the inputs, x - y is the output\n",
    "```\n",
    "\n",
    "### Testing the Function\n",
    "\n",
    "The `assert` keyword is used to check that code behaves the way you expect.  If the code evaluates to **False**, then it returns an error.\n",
    "\n",
    "```python\n",
    "assert add1(5) == 6\n",
    "```\n",
    "\n",
    "```python\n",
    "assert add1(5) == 7, \"Whoops!\"  # Create a custom AssertionError message if an error occurs\n",
    "```"
   ]
  },
  {
   "cell_type": "markdown",
   "id": "destroyed-electric",
   "metadata": {},
   "source": [
    "### Exercises"
   ]
  },
  {
   "cell_type": "markdown",
   "id": "married-crossing",
   "metadata": {},
   "source": [
    "Create and Test a function `add3()` that adds 3 to any value `x`"
   ]
  },
  {
   "cell_type": "code",
   "execution_count": 2,
   "id": "daily-williams",
   "metadata": {},
   "outputs": [],
   "source": [
    "add3 = lambda x: x +3 "
   ]
  },
  {
   "cell_type": "code",
   "execution_count": 5,
   "id": "3ecc3d9a-0c75-40bc-948c-4f6e6c8ad195",
   "metadata": {},
   "outputs": [
    {
     "ename": "AssertionError",
     "evalue": "You are wrong",
     "output_type": "error",
     "traceback": [
      "\u001b[0;31m---------------------------------------------------------------------------\u001b[0m",
      "\u001b[0;31mAssertionError\u001b[0m                            Traceback (most recent call last)",
      "\u001b[0;32m<ipython-input-5-97a3f33dfd75>\u001b[0m in \u001b[0;36m<module>\u001b[0;34m\u001b[0m\n\u001b[0;32m----> 1\u001b[0;31m \u001b[0;32massert\u001b[0m \u001b[0madd3\u001b[0m\u001b[0;34m(\u001b[0m\u001b[0;36m9\u001b[0m\u001b[0;34m)\u001b[0m \u001b[0;34m==\u001b[0m \u001b[0;36m123\u001b[0m\u001b[0;34m,\u001b[0m \u001b[0;34m\"You are wrong\"\u001b[0m\u001b[0;34m\u001b[0m\u001b[0;34m\u001b[0m\u001b[0m\n\u001b[0m",
      "\u001b[0;31mAssertionError\u001b[0m: You are wrong"
     ]
    }
   ],
   "source": [
    "assert add3(9) == 123, \"You are wrong\""
   ]
  },
  {
   "cell_type": "markdown",
   "id": "appreciated-presence",
   "metadata": {},
   "source": [
    "Create and Test a function `square()` that calculates the square of any value `x`"
   ]
  },
  {
   "cell_type": "code",
   "execution_count": 6,
   "id": "pretty-harbor",
   "metadata": {},
   "outputs": [
    {
     "data": {
      "text/plain": [
       "2.23606797749979"
      ]
     },
     "execution_count": 6,
     "metadata": {},
     "output_type": "execute_result"
    }
   ],
   "source": [
    "import numpy as np\n",
    "square = lambda x: np.sqrt(x)\n",
    "square(5)"
   ]
  },
  {
   "cell_type": "markdown",
   "id": "indirect-retailer",
   "metadata": {},
   "source": [
    "Create and Test a function `mean()` that calculates the square of any list `data`"
   ]
  },
  {
   "cell_type": "code",
   "execution_count": 31,
   "id": "85d435f7-a8f1-4cdc-b0db-235a996275e6",
   "metadata": {},
   "outputs": [],
   "source": [
    "data = [2,3,4]"
   ]
  },
  {
   "cell_type": "code",
   "execution_count": 32,
   "id": "simplified-fetish",
   "metadata": {},
   "outputs": [],
   "source": [
    "mean = lambda data: np.mean(data)"
   ]
  },
  {
   "cell_type": "code",
   "execution_count": 34,
   "id": "cb5fa88b-7ac3-4ef5-a8e1-688fa5038291",
   "metadata": {},
   "outputs": [
    {
     "data": {
      "text/plain": [
       "3.0"
      ]
     },
     "execution_count": 34,
     "metadata": {},
     "output_type": "execute_result"
    }
   ],
   "source": [
    "mean(data)"
   ]
  },
  {
   "cell_type": "code",
   "execution_count": 33,
   "id": "1ff3938d-5225-4d90-898b-0eb0cfde3368",
   "metadata": {},
   "outputs": [],
   "source": [
    "assert mean(data) == 3"
   ]
  },
  {
   "cell_type": "markdown",
   "id": "spatial-there",
   "metadata": {},
   "source": [
    "Create and Test a function `mul()` that multiplies value `x` by value `y`"
   ]
  },
  {
   "cell_type": "code",
   "execution_count": 13,
   "id": "answering-dallas",
   "metadata": {},
   "outputs": [
    {
     "data": {
      "text/plain": [
       "12"
      ]
     },
     "execution_count": 13,
     "metadata": {},
     "output_type": "execute_result"
    }
   ],
   "source": [
    "mul = lambda x,y: x * y\n",
    "mul(3,4)"
   ]
  },
  {
   "cell_type": "markdown",
   "id": "professional-panel",
   "metadata": {},
   "source": [
    "## Making an Importable Python Module of Functions\n",
    "\n",
    "Any text file ending with the .py extension (e.g. **math.py**) can have its variables imported if the directory is in the project's **PATH**, a special list of directories that Python searches in whenever it tries to import something! "
   ]
  },
  {
   "cell_type": "markdown",
   "id": "inside-values",
   "metadata": {},
   "source": [
    "Your path can be found and modified in `sys.path`"
   ]
  },
  {
   "cell_type": "code",
   "execution_count": 2,
   "id": "overhead-london",
   "metadata": {},
   "outputs": [
    {
     "data": {
      "text/plain": [
       "['/Users/kilianschumacher/Downloads',\n",
       " '/Users/kilianschumacher/opt/anaconda3/lib/python38.zip',\n",
       " '/Users/kilianschumacher/opt/anaconda3/lib/python3.8',\n",
       " '/Users/kilianschumacher/opt/anaconda3/lib/python3.8/lib-dynload',\n",
       " '',\n",
       " '/Users/kilianschumacher/opt/anaconda3/lib/python3.8/site-packages',\n",
       " '/Users/kilianschumacher/opt/anaconda3/lib/python3.8/site-packages/aeosa',\n",
       " '/Users/kilianschumacher/opt/anaconda3/lib/python3.8/site-packages/locket-0.2.1-py3.8.egg',\n",
       " '/Users/kilianschumacher/opt/anaconda3/lib/python3.8/site-packages/IPython/extensions',\n",
       " '/Users/kilianschumacher/.ipython']"
      ]
     },
     "execution_count": 2,
     "metadata": {},
     "output_type": "execute_result"
    }
   ],
   "source": [
    "import sys\n",
    "sys.path"
   ]
  },
  {
   "cell_type": "markdown",
   "id": "reflected-technique",
   "metadata": {},
   "source": [
    "Note that the working directory is always in the path.  That means that if you put a Python module (a \\*.py file) in the same directory as your notebook, you can import it without change. \n",
    "\n",
    "Let's try it out!"
   ]
  },
  {
   "cell_type": "markdown",
   "id": "pointed-alert",
   "metadata": {},
   "source": [
    "#### Exercise\n",
    "\n",
    "Copy-paste the functions you made earlier into a new text file: `my_math.py`.\n",
    "\n",
    "Then import them into Python below!  Does it work?"
   ]
  },
  {
   "cell_type": "code",
   "execution_count": 8,
   "id": "sealed-stylus",
   "metadata": {},
   "outputs": [],
   "source": [
    "import my_math"
   ]
  },
  {
   "cell_type": "code",
   "execution_count": 9,
   "id": "11d99e14-c20a-4402-9867-8d6ff7659ee2",
   "metadata": {},
   "outputs": [
    {
     "data": {
      "text/plain": [
       "2.23606797749979"
      ]
     },
     "execution_count": 9,
     "metadata": {},
     "output_type": "execute_result"
    }
   ],
   "source": [
    "my_math.square(5)"
   ]
  },
  {
   "cell_type": "code",
   "execution_count": 38,
   "id": "f7286b98-fb3a-40bf-87d4-bf07724e5281",
   "metadata": {},
   "outputs": [
    {
     "ename": "ModuleNotFoundError",
     "evalue": "No module named 'add3'",
     "output_type": "error",
     "traceback": [
      "\u001b[0;31m---------------------------------------------------------------------------\u001b[0m",
      "\u001b[0;31mModuleNotFoundError\u001b[0m                       Traceback (most recent call last)",
      "\u001b[0;32m<ipython-input-38-810ea5af60bc>\u001b[0m in \u001b[0;36m<module>\u001b[0;34m\u001b[0m\n\u001b[0;32m----> 1\u001b[0;31m \u001b[0;32mimport\u001b[0m \u001b[0madd3\u001b[0m\u001b[0;34m\u001b[0m\u001b[0;34m\u001b[0m\u001b[0m\n\u001b[0m",
      "\u001b[0;31mModuleNotFoundError\u001b[0m: No module named 'add3'"
     ]
    }
   ],
   "source": []
  },
  {
   "cell_type": "code",
   "execution_count": null,
   "id": "e5ba35be-840c-41d9-93f7-c593dc5ce1a6",
   "metadata": {},
   "outputs": [],
   "source": []
  },
  {
   "cell_type": "code",
   "execution_count": null,
   "id": "9adf1a09-a066-4b07-881c-31966ea6542b",
   "metadata": {},
   "outputs": [],
   "source": []
  },
  {
   "cell_type": "code",
   "execution_count": null,
   "id": "0f21ea1b-7821-4e91-baf2-ec23894d362d",
   "metadata": {},
   "outputs": [],
   "source": []
  },
  {
   "cell_type": "code",
   "execution_count": null,
   "id": "db01ea41-d0bc-4f6c-b030-7e1137aba8e8",
   "metadata": {},
   "outputs": [],
   "source": []
  },
  {
   "cell_type": "markdown",
   "id": "municipal-harbor",
   "metadata": {},
   "source": [
    "## Making Multi-Line Functions with `def`\n",
    "\n",
    "Having a function that just does one thing, though, is a little limiting.  Python has an alternate syntax for wrapping blocks of code in a function that's much more flexible:\n",
    "\n",
    "```python\n",
    "def add1(x):\n",
    "    \"\"\"This is the help text that appears\"\"\"\n",
    "    result = x + 1\n",
    "    return result \n",
    "```\n",
    "\n",
    "```python\n",
    "def diff(x, y):\n",
    "    \"\"\"This is the help text that appears\"\"\"\n",
    "    result = x - y\n",
    "    return result\n",
    "```\n",
    "\n"
   ]
  },
  {
   "cell_type": "markdown",
   "id": "suited-barcelona",
   "metadata": {},
   "source": [
    "### Exercises\n",
    "Let's make the same functions as before, this time using the `def` syntax"
   ]
  },
  {
   "cell_type": "markdown",
   "id": "typical-receiver",
   "metadata": {},
   "source": [
    "Create and Test a function `add3()` that adds 3 to any value `x`"
   ]
  },
  {
   "cell_type": "code",
   "execution_count": 10,
   "id": "outer-graph",
   "metadata": {},
   "outputs": [],
   "source": [
    "def add3(x):\n",
    "    \"\"\"Help\"\"\"\n",
    "    result = x + 3\n",
    "    return result\n"
   ]
  },
  {
   "cell_type": "code",
   "execution_count": 11,
   "id": "3b15c7fb-dc0a-4167-b42d-e8fe384a9e6a",
   "metadata": {},
   "outputs": [
    {
     "data": {
      "text/plain": [
       "6"
      ]
     },
     "execution_count": 11,
     "metadata": {},
     "output_type": "execute_result"
    }
   ],
   "source": [
    "add3(3)"
   ]
  },
  {
   "cell_type": "code",
   "execution_count": 12,
   "id": "b5558eee-6f28-4431-8018-a83d8873e643",
   "metadata": {},
   "outputs": [
    {
     "ename": "SyntaxError",
     "evalue": "invalid syntax (<ipython-input-12-534ee3ada6a6>, line 1)",
     "output_type": "error",
     "traceback": [
      "\u001b[0;36m  File \u001b[0;32m\"<ipython-input-12-534ee3ada6a6>\"\u001b[0;36m, line \u001b[0;32m1\u001b[0m\n\u001b[0;31m    assert add3(3) == 6, You are a little stupid\u001b[0m\n\u001b[0m                             ^\u001b[0m\n\u001b[0;31mSyntaxError\u001b[0m\u001b[0;31m:\u001b[0m invalid syntax\n"
     ]
    }
   ],
   "source": []
  },
  {
   "cell_type": "markdown",
   "id": "ideal-bonus",
   "metadata": {},
   "source": [
    "Create and Test a function `square()` that calculates the square of any value `x`"
   ]
  },
  {
   "cell_type": "code",
   "execution_count": null,
   "id": "biblical-jacob",
   "metadata": {},
   "outputs": [],
   "source": []
  },
  {
   "cell_type": "markdown",
   "id": "moral-brick",
   "metadata": {},
   "source": [
    "Create and Test a function `mean()` that calculates the square of any list `data`"
   ]
  },
  {
   "cell_type": "code",
   "execution_count": null,
   "id": "massive-stability",
   "metadata": {},
   "outputs": [],
   "source": []
  },
  {
   "cell_type": "markdown",
   "id": "alternative-colonial",
   "metadata": {},
   "source": [
    "Create and Test a function `mul()` that multiplies value `x` by value `y`"
   ]
  },
  {
   "cell_type": "code",
   "execution_count": null,
   "id": "encouraging-telling",
   "metadata": {},
   "outputs": [],
   "source": []
  },
  {
   "cell_type": "markdown",
   "id": "impossible-fiction",
   "metadata": {},
   "source": [
    "Put these functions into your `my_math.py` module, adding a line of help text. "
   ]
  },
  {
   "cell_type": "code",
   "execution_count": null,
   "id": "nasty-technical",
   "metadata": {},
   "outputs": [],
   "source": []
  }
 ],
 "metadata": {
  "kernelspec": {
   "display_name": "Python 3",
   "language": "python",
   "name": "python3"
  },
  "language_info": {
   "codemirror_mode": {
    "name": "ipython",
    "version": 3
   },
   "file_extension": ".py",
   "mimetype": "text/x-python",
   "name": "python",
   "nbconvert_exporter": "python",
   "pygments_lexer": "ipython3",
   "version": "3.8.1"
  }
 },
 "nbformat": 4,
 "nbformat_minor": 5
}
