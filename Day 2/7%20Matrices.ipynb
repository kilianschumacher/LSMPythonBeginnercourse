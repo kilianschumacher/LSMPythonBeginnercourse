{
 "cells": [
  {
   "cell_type": "code",
   "execution_count": 2,
   "id": "raised-wheat",
   "metadata": {},
   "outputs": [],
   "source": [
    "import numpy as np"
   ]
  },
  {
   "cell_type": "markdown",
   "id": "indoor-universe",
   "metadata": {},
   "source": [
    "# Numpy Arrays  vs Python Lists\n",
    "\n",
    "Like Python Lists, numpy Arrays are ordered sequences of data.  However, they have slightly different properties than Python lists:\n",
    "\n",
    "| Property | Lists | Arrays |\n",
    "| :--:     | :--:  | :--:   |\n",
    "| Ordered  | ✔️    | ✔️ |\n",
    "| Mutable | ✔️    | ✔️ |\n",
    "| Can Mix Data Types | ✔️ |   |\n",
    "| Append Data without Copying Whole Structure | ✔️  |  |\n",
    "| Broadcastable |  | ✔️ |\n",
    "| Fast Calculations |   | ✔️ |\n",
    "| Fast Append | ✔️ |  |\n",
    "\n"
   ]
  },
  {
   "cell_type": "markdown",
   "id": "selective-stevens",
   "metadata": {},
   "source": [
    "### Exercises \n",
    "Let's explore each property and compare lists and arrays"
   ]
  },
  {
   "cell_type": "markdown",
   "id": "atmospheric-tours",
   "metadata": {},
   "source": [
    "#### Ordered Index"
   ]
  },
  {
   "cell_type": "markdown",
   "id": "female-correction",
   "metadata": {},
   "source": [
    "Index the third element of these data collections:"
   ]
  },
  {
   "cell_type": "markdown",
   "id": "attended-glasgow",
   "metadata": {},
   "source": [
    "List:"
   ]
  },
  {
   "cell_type": "code",
   "execution_count": null,
   "id": "american-relations",
   "metadata": {},
   "outputs": [],
   "source": [
    "x = [10, 20, 30, 40, 50]"
   ]
  },
  {
   "cell_type": "markdown",
   "id": "romance-priority",
   "metadata": {},
   "source": [
    "Array:"
   ]
  },
  {
   "cell_type": "code",
   "execution_count": 3,
   "id": "coupled-national",
   "metadata": {},
   "outputs": [],
   "source": [
    "x = np.array([10, 20, 30, 40, 50])"
   ]
  },
  {
   "cell_type": "code",
   "execution_count": null,
   "id": "broke-looking",
   "metadata": {},
   "outputs": [],
   "source": []
  },
  {
   "cell_type": "markdown",
   "id": "everyday-windows",
   "metadata": {},
   "source": [
    "#### Ordered Slicing"
   ]
  },
  {
   "cell_type": "markdown",
   "id": "humanitarian-amplifier",
   "metadata": {},
   "source": [
    "Slice out the second-to-fourth element of these data collections:"
   ]
  },
  {
   "cell_type": "markdown",
   "id": "shaped-marina",
   "metadata": {},
   "source": [
    "List:"
   ]
  },
  {
   "cell_type": "code",
   "execution_count": null,
   "id": "closed-french",
   "metadata": {},
   "outputs": [],
   "source": [
    "x = [10, 20, 30, 40, 50]"
   ]
  },
  {
   "cell_type": "markdown",
   "id": "after-science",
   "metadata": {},
   "source": [
    "Array:"
   ]
  },
  {
   "cell_type": "code",
   "execution_count": 3,
   "id": "changed-simpson",
   "metadata": {},
   "outputs": [],
   "source": [
    "x = np.array([10, 20, 30, 40, 50])"
   ]
  },
  {
   "cell_type": "markdown",
   "id": "american-exploration",
   "metadata": {},
   "source": [
    "#### \"Mutate\" a Value inside a Collection"
   ]
  },
  {
   "cell_type": "markdown",
   "id": "dress-biotechnology",
   "metadata": {},
   "source": [
    "Change the third element of these data collections to the value \"A\":\n",
    "```python\n",
    "data[index] = value\n",
    "```"
   ]
  },
  {
   "cell_type": "markdown",
   "id": "double-reminder",
   "metadata": {},
   "source": [
    "List:"
   ]
  },
  {
   "cell_type": "code",
   "execution_count": null,
   "id": "social-sector",
   "metadata": {},
   "outputs": [],
   "source": [
    "x = [\"A\", \"C\", \"G\", \"G\", \"C\", \"T\"]"
   ]
  },
  {
   "cell_type": "markdown",
   "id": "least-chair",
   "metadata": {},
   "source": [
    "Array:"
   ]
  },
  {
   "cell_type": "code",
   "execution_count": 3,
   "id": "copyrighted-scale",
   "metadata": {},
   "outputs": [],
   "source": [
    "x = np.array([\"A\", \"C\", \"G\", \"G\", \"C\", \"T\"])"
   ]
  },
  {
   "cell_type": "markdown",
   "id": "boolean-washington",
   "metadata": {},
   "source": [
    "#### Mixing Data Types"
   ]
  },
  {
   "cell_type": "markdown",
   "id": "entire-present",
   "metadata": {},
   "source": [
    "Change the third element of these data collections to the value 40:\n",
    "```python\n",
    "data[index] = value\n",
    "```"
   ]
  },
  {
   "cell_type": "markdown",
   "id": "mental-dictionary",
   "metadata": {},
   "source": [
    "List:"
   ]
  },
  {
   "cell_type": "code",
   "execution_count": null,
   "id": "moderate-chicken",
   "metadata": {},
   "outputs": [],
   "source": [
    "x = [\"A\", \"C\", \"G\", \"G\", \"C\", \"T\"]"
   ]
  },
  {
   "cell_type": "markdown",
   "id": "focal-driver",
   "metadata": {},
   "source": [
    "Array:"
   ]
  },
  {
   "cell_type": "code",
   "execution_count": 3,
   "id": "placed-temperature",
   "metadata": {},
   "outputs": [],
   "source": [
    "x = np.array([\"A\", \"C\", \"G\", \"G\", \"C\", \"T\"])"
   ]
  },
  {
   "cell_type": "markdown",
   "id": "conservative-plain",
   "metadata": {},
   "source": [
    "#### Append Values"
   ]
  },
  {
   "cell_type": "markdown",
   "id": "operating-bachelor",
   "metadata": {},
   "source": [
    "Append a new value to the end of these data:"
   ]
  },
  {
   "cell_type": "markdown",
   "id": "outdoor-swift",
   "metadata": {},
   "source": [
    "List:\n",
    "```python\n",
    "data.append(value)\n",
    "```"
   ]
  },
  {
   "cell_type": "code",
   "execution_count": null,
   "id": "eastern-function",
   "metadata": {},
   "outputs": [],
   "source": [
    "x = [\"A\", \"C\", \"G\", \"G\", \"C\", \"T\"]"
   ]
  },
  {
   "cell_type": "markdown",
   "id": "alternate-granny",
   "metadata": {},
   "source": [
    "Array:\n",
    "```python\n",
    "np.append(data, value)\n",
    "```"
   ]
  },
  {
   "cell_type": "code",
   "execution_count": 7,
   "id": "valid-theater",
   "metadata": {},
   "outputs": [],
   "source": [
    "x = np.array([\"A\", \"C\", \"G\", \"G\", \"C\", \"T\"])"
   ]
  },
  {
   "cell_type": "markdown",
   "id": "amateur-dependence",
   "metadata": {},
   "source": [
    "### Broadcasting\n",
    "\n",
    "Run the following code, which multiplies every value in the collection by 10"
   ]
  },
  {
   "cell_type": "markdown",
   "id": "paperback-seattle",
   "metadata": {},
   "source": [
    "List:"
   ]
  },
  {
   "cell_type": "code",
   "execution_count": 9,
   "id": "amended-metro",
   "metadata": {},
   "outputs": [
    {
     "data": {
      "text/plain": [
       "[1, 2, 3, 4, 5]"
      ]
     },
     "execution_count": 9,
     "metadata": {},
     "output_type": "execute_result"
    }
   ],
   "source": [
    "data = [1, 2, 3, 4, 5]\n",
    "data"
   ]
  },
  {
   "cell_type": "code",
   "execution_count": 10,
   "id": "utility-norwegian",
   "metadata": {},
   "outputs": [
    {
     "data": {
      "text/plain": [
       "[10, 20, 30, 40, 50]"
      ]
     },
     "execution_count": 10,
     "metadata": {},
     "output_type": "execute_result"
    }
   ],
   "source": [
    "data10 = [x * 10 for x in data]\n",
    "data10"
   ]
  },
  {
   "cell_type": "markdown",
   "id": "enormous-grain",
   "metadata": {},
   "source": [
    "Array:"
   ]
  },
  {
   "cell_type": "code",
   "execution_count": 11,
   "id": "stopped-finder",
   "metadata": {},
   "outputs": [
    {
     "data": {
      "text/plain": [
       "array([1, 2, 3, 4, 5])"
      ]
     },
     "execution_count": 11,
     "metadata": {},
     "output_type": "execute_result"
    }
   ],
   "source": [
    "data = np.array([1, 2, 3, 4, 5])\n",
    "data"
   ]
  },
  {
   "cell_type": "code",
   "execution_count": 12,
   "id": "sixth-portugal",
   "metadata": {},
   "outputs": [
    {
     "data": {
      "text/plain": [
       "array([10, 20, 30, 40, 50])"
      ]
     },
     "execution_count": 12,
     "metadata": {},
     "output_type": "execute_result"
    }
   ],
   "source": [
    "data10 = data * 10\n",
    "data10"
   ]
  },
  {
   "cell_type": "markdown",
   "id": "educational-lithuania",
   "metadata": {},
   "source": [
    "### Fast Calculations\n",
    "\n",
    "Run the following code, which multiplies every value in the collection by 10.  This time, take a look at how long it takes to run.  Which is faster?\n",
    "\n",
    "Note: the ```%%timeit``` magic command runs the cell many times and reports the average amount of time each run of the cell's code took."
   ]
  },
  {
   "cell_type": "markdown",
   "id": "greenhouse-aside",
   "metadata": {},
   "source": [
    "List:"
   ]
  },
  {
   "cell_type": "code",
   "execution_count": 22,
   "id": "looking-radius",
   "metadata": {},
   "outputs": [
    {
     "data": {
      "text/plain": [
       "1000000"
      ]
     },
     "execution_count": 22,
     "metadata": {},
     "output_type": "execute_result"
    }
   ],
   "source": [
    "data = list(range(0, 1_000_000))\n",
    "len(data)"
   ]
  },
  {
   "cell_type": "code",
   "execution_count": 23,
   "id": "fatty-request",
   "metadata": {},
   "outputs": [
    {
     "name": "stdout",
     "output_type": "stream",
     "text": [
      "85.3 ms ± 1.88 ms per loop (mean ± std. dev. of 7 runs, 10 loops each)\n"
     ]
    }
   ],
   "source": [
    "%%timeit\n",
    "data10 = [x * 10 for x in data]"
   ]
  },
  {
   "cell_type": "markdown",
   "id": "neither-china",
   "metadata": {},
   "source": [
    "Array:"
   ]
  },
  {
   "cell_type": "code",
   "execution_count": 24,
   "id": "suspended-italian",
   "metadata": {},
   "outputs": [
    {
     "data": {
      "text/plain": [
       "array([     0,      1,      2, ..., 999997, 999998, 999999])"
      ]
     },
     "execution_count": 24,
     "metadata": {},
     "output_type": "execute_result"
    }
   ],
   "source": [
    "data = np.arange(0, 1_000_000)\n",
    "data"
   ]
  },
  {
   "cell_type": "code",
   "execution_count": 25,
   "id": "massive-mathematics",
   "metadata": {},
   "outputs": [
    {
     "name": "stdout",
     "output_type": "stream",
     "text": [
      "1.56 ms ± 40.4 µs per loop (mean ± std. dev. of 7 runs, 1000 loops each)\n"
     ]
    }
   ],
   "source": [
    "%%timeit\n",
    "data10 = data * 10"
   ]
  },
  {
   "cell_type": "markdown",
   "id": "dying-guinea",
   "metadata": {},
   "source": [
    "Array:"
   ]
  },
  {
   "cell_type": "code",
   "execution_count": 11,
   "id": "tamil-linux",
   "metadata": {},
   "outputs": [
    {
     "data": {
      "text/plain": [
       "array([1, 2, 3, 4, 5])"
      ]
     },
     "execution_count": 11,
     "metadata": {},
     "output_type": "execute_result"
    }
   ],
   "source": [
    "data = np.array([1, 2, 3, 4, 5])\n",
    "data"
   ]
  },
  {
   "cell_type": "code",
   "execution_count": 12,
   "id": "quality-sport",
   "metadata": {},
   "outputs": [
    {
     "data": {
      "text/plain": [
       "array([10, 20, 30, 40, 50])"
      ]
     },
     "execution_count": 12,
     "metadata": {},
     "output_type": "execute_result"
    }
   ],
   "source": [
    "data10 = data * 10\n",
    "data10"
   ]
  },
  {
   "cell_type": "markdown",
   "id": "stretch-microphone",
   "metadata": {},
   "source": [
    "### Fast Append\n",
    "\n",
    "Run the following code, which appends a new value to a list a thousand times.  Which is faster?\n"
   ]
  },
  {
   "cell_type": "markdown",
   "id": "raised-american",
   "metadata": {},
   "source": [
    "List:"
   ]
  },
  {
   "cell_type": "code",
   "execution_count": 27,
   "id": "existing-buffer",
   "metadata": {},
   "outputs": [
    {
     "name": "stdout",
     "output_type": "stream",
     "text": [
      "72.5 µs ± 2.21 µs per loop (mean ± std. dev. of 7 runs, 10000 loops each)\n"
     ]
    }
   ],
   "source": [
    "%%timeit\n",
    "data = []  # an empty list\n",
    "for _ in range(1000):  # repeat the same code 1000 times\n",
    "    data.append(\"A\")\n"
   ]
  },
  {
   "cell_type": "markdown",
   "id": "adapted-europe",
   "metadata": {},
   "source": [
    "Array:"
   ]
  },
  {
   "cell_type": "code",
   "execution_count": 28,
   "id": "instrumental-irish",
   "metadata": {},
   "outputs": [
    {
     "name": "stdout",
     "output_type": "stream",
     "text": [
      "5.76 ms ± 143 µs per loop (mean ± std. dev. of 7 runs, 100 loops each)\n"
     ]
    }
   ],
   "source": [
    "%%timeit\n",
    "data = np.array([], dtype=str)  # an empty array\n",
    "for _ in range(1000):  # repeat the same code 1000 times\n",
    "    data = np.append(data, \"A\")"
   ]
  },
  {
   "cell_type": "markdown",
   "id": "registered-carol",
   "metadata": {},
   "source": [
    "### Summary\n",
    "So long as your data is complete and well-organized, arrays are quite handy!  They are simple to work with and can crunch a lot of numbers in a short time!  On the other hand, if you want maximum flexibility, lists are perfect!"
   ]
  },
  {
   "cell_type": "markdown",
   "id": "floral-asbestos",
   "metadata": {},
   "source": [
    "## Multidimensional Arrays with Numpy\n",
    "\n",
    "\n",
    "Numpy arrays can be multidimensional: they can be squares, cubes, hypercubes, etc!  When choosing datastructures, Arrays are best chosen when all of the values in the structure represent the same variable.\n",
    "\n",
    "With multidimensional arrays, everything is pretty much the same as the 1-dimensional case, with the addition of a few options for specifiying which order the dimensions should be in, and which dimension an operation should operate on."
   ]
  },
  {
   "cell_type": "markdown",
   "id": "minor-selection",
   "metadata": {},
   "source": [
    "### Creating Multidimensional Arrays\n",
    "\n",
    "Most of the array-generation functions have a **shape** or **size** optional argument in them.  If you provide a tuple with a new shape specifying the number of elements along each dimension (e.g. (5, 3) will produce a matrix with 5 rows and 3 columns), it will give you something multidimensional!\n",
    "\n",
    "```python\n",
    ">>> data = np.random.randint(1, 10, size=(4, 5))\n",
    ">>> data\n",
    "array([[9, 7, 4, 2, 3],\n",
    "       [3, 6, 7, 4, 8],\n",
    "       [3, 6, 8, 7, 3],\n",
    "       [6, 9, 4, 2, 2]])\n",
    "```\n",
    "\n",
    "For cases where there is no such option, all arrays have a **reshape()** method that lets you make it more-dimensional.  To simply **flatten** the matrix to a single dimension, you can use the **flatten()** method.\n",
    "\n",
    "```python\n",
    ">>> data.reshape(2, 10)\n",
    "array([[9, 7, 4, 2, 3, 3, 6, 7, 4, 8],\n",
    "       [3, 6, 8, 7, 3, 6, 9, 4, 2, 2]])\n",
    "\n",
    ">>> data.flatten()\n",
    "array([9, 7, 4, 2, 3, 3, 6, 7, 4, 8, 3, 6, 8, 7, 3, 6, 9, 4, 2, 2])\n",
    "```\n",
    "\n",
    "Numpy also has some auto-calculation features to make it a bit easier to get the shape you need:\n",
    "\n",
    "```python\n",
    ">>> data.reshape(-1, 5)  # -1 tells the reshape() method to calculate the value in that spot\n",
    "array([[9, 7, 4, 2, 3],\n",
    "       [3, 6, 7, 4, 8],\n",
    "       [3, 6, 8, 7, 3],\n",
    "       [6, 9, 4, 2, 2]])\n",
    "\n",
    ">>> data.flatten()[np.newaxis, :]  # Makes a 1xN array\n",
    ">>> data.flatten()[None, :]  # Also Makes a 1xN array\n",
    ">>> data.flatten()[:, None]  # Makes an Nx1 array\n",
    "```\n",
    "\n",
    "And if an array has some extra dimensions you don't care about (like a 32x1x1 array, and you just want a 32 array), you can use the **squeeze()** method to squeeze out those extra dimensions!\n",
    "\n",
    "Finally, you can find out the shape of a matrix by getting its **shape** attribute.  And to get the total number of elements, check its **size** attribute.\n",
    "\n",
    "```python\n",
    ">>> data.shape\n",
    "(4, 5)\n",
    "\n",
    ">>> data.size\n",
    "20\n",
    "```"
   ]
  },
  {
   "cell_type": "markdown",
   "id": "dying-tuition",
   "metadata": {},
   "source": [
    "#### Exercises"
   ]
  },
  {
   "cell_type": "markdown",
   "id": "stuffed-child",
   "metadata": {},
   "source": [
    "Generate a 3 x 10 array of random integers between 1 and 4."
   ]
  },
  {
   "cell_type": "code",
   "execution_count": 2,
   "id": "3bb3e010-b89f-47cd-9349-1adb9cf2d98f",
   "metadata": {},
   "outputs": [],
   "source": [
    "import numpy as np"
   ]
  },
  {
   "cell_type": "code",
   "execution_count": 7,
   "id": "afraid-brunei",
   "metadata": {},
   "outputs": [
    {
     "data": {
      "text/plain": [
       "array([[3, 3, 3, 2, 3, 1, 3, 4, 4, 4],\n",
       "       [2, 4, 4, 4, 2, 2, 4, 1, 4, 3],\n",
       "       [1, 1, 4, 4, 4, 1, 1, 1, 3, 3]])"
      ]
     },
     "execution_count": 7,
     "metadata": {},
     "output_type": "execute_result"
    }
   ],
   "source": [
    "data = np.random.randint(1, 5, size=(3, 10))\n",
    "data\n"
   ]
  },
  {
   "cell_type": "markdown",
   "id": "solved-statistics",
   "metadata": {},
   "source": [
    "Make an array with all the values between 0 and 11, and reshape it into a 3 x 4 matrix..."
   ]
  },
  {
   "cell_type": "code",
   "execution_count": 15,
   "id": "differential-sodium",
   "metadata": {},
   "outputs": [
    {
     "ename": "SyntaxError",
     "evalue": "invalid syntax (<ipython-input-15-145ee7fcca6d>, line 1)",
     "output_type": "error",
     "traceback": [
      "\u001b[0;36m  File \u001b[0;32m\"<ipython-input-15-145ee7fcca6d>\"\u001b[0;36m, line \u001b[0;32m1\u001b[0m\n\u001b[0;31m    data = np.array([0:12])\u001b[0m\n\u001b[0m                      ^\u001b[0m\n\u001b[0;31mSyntaxError\u001b[0m\u001b[0;31m:\u001b[0m invalid syntax\n"
     ]
    }
   ],
   "source": [
    "data = np.array([0:12])\n",
    "data"
   ]
  },
  {
   "cell_type": "code",
   "execution_count": 23,
   "id": "1cf9abcc-c6d8-4432-81a4-25bab544a6d1",
   "metadata": {},
   "outputs": [
    {
     "data": {
      "text/plain": [
       "array([[ 0,  1,  2,  3],\n",
       "       [ 4,  5,  6,  7],\n",
       "       [ 8,  9, 10, 11]])"
      ]
     },
     "execution_count": 23,
     "metadata": {},
     "output_type": "execute_result"
    }
   ],
   "source": [
    "data = np.arange(0,12)\n",
    "data\n",
    "data2 = data.reshape(3,4)\n",
    "data2"
   ]
  },
  {
   "cell_type": "markdown",
   "id": "analyzed-separation",
   "metadata": {},
   "source": [
    "...Reshape the previous array into a 4 x 3 matrix..."
   ]
  },
  {
   "cell_type": "code",
   "execution_count": 25,
   "id": "welsh-burlington",
   "metadata": {},
   "outputs": [
    {
     "data": {
      "text/plain": [
       "array([[ 0,  1,  2],\n",
       "       [ 3,  4,  5],\n",
       "       [ 6,  7,  8],\n",
       "       [ 9, 10, 11]])"
      ]
     },
     "execution_count": 25,
     "metadata": {},
     "output_type": "execute_result"
    }
   ],
   "source": [
    "data3 = data2.reshape(4,3)\n",
    "data3"
   ]
  },
  {
   "cell_type": "markdown",
   "id": "fewer-harbor",
   "metadata": {},
   "source": [
    "...Reshape that array into a 2 x 6 matrix..."
   ]
  },
  {
   "cell_type": "code",
   "execution_count": 27,
   "id": "derived-cleaners",
   "metadata": {},
   "outputs": [
    {
     "data": {
      "text/plain": [
       "array([[ 0,  1,  2,  3,  4,  5],\n",
       "       [ 6,  7,  8,  9, 10, 11]])"
      ]
     },
     "execution_count": 27,
     "metadata": {},
     "output_type": "execute_result"
    }
   ],
   "source": [
    "data4 = data3.reshape(2,6)\n",
    "data4"
   ]
  },
  {
   "cell_type": "markdown",
   "id": "streaming-malpractice",
   "metadata": {},
   "source": [
    "...Then flatten it."
   ]
  },
  {
   "cell_type": "code",
   "execution_count": 29,
   "id": "genuine-example",
   "metadata": {},
   "outputs": [
    {
     "data": {
      "text/plain": [
       "array([ 0,  1,  2,  3,  4,  5,  6,  7,  8,  9, 10, 11])"
      ]
     },
     "execution_count": 29,
     "metadata": {},
     "output_type": "execute_result"
    }
   ],
   "source": [
    "data5 = data4.flatten()\n",
    "data5"
   ]
  },
  {
   "cell_type": "markdown",
   "id": "separated-armstrong",
   "metadata": {},
   "source": [
    "Confirm its shape.  Is it the same as its size?"
   ]
  },
  {
   "cell_type": "code",
   "execution_count": 35,
   "id": "metropolitan-aquarium",
   "metadata": {},
   "outputs": [
    {
     "data": {
      "text/plain": [
       "12"
      ]
     },
     "execution_count": 35,
     "metadata": {},
     "output_type": "execute_result"
    }
   ],
   "source": [
    "data5.size"
   ]
  },
  {
   "cell_type": "markdown",
   "id": "recognized-output",
   "metadata": {},
   "source": [
    "### Reordering Dimensions\n",
    "\n",
    "There are many ways to transpose matrices:\n",
    "  - array.T\n",
    "  - array.transpose()\n",
    "  - np.transpose(array)\n",
    "  - array.swapaxes()\n",
    "\n",
    "Try using each of them on the array **x**."
   ]
  },
  {
   "cell_type": "code",
   "execution_count": 36,
   "id": "earlier-conjunction",
   "metadata": {},
   "outputs": [
    {
     "data": {
      "text/plain": [
       "array([[ 0,  1,  2,  3],\n",
       "       [ 4,  5,  6,  7],\n",
       "       [ 8,  9, 10, 11]])"
      ]
     },
     "execution_count": 36,
     "metadata": {},
     "output_type": "execute_result"
    }
   ],
   "source": [
    "x = np.arange(12).reshape(3, 4)\n",
    "x\n"
   ]
  },
  {
   "cell_type": "code",
   "execution_count": 43,
   "id": "07a3d40c-55d2-4298-88c6-5f8576323abf",
   "metadata": {},
   "outputs": [
    {
     "data": {
      "text/plain": [
       "array([[ 0,  4,  8],\n",
       "       [ 1,  5,  9],\n",
       "       [ 2,  6, 10],\n",
       "       [ 3,  7, 11]])"
      ]
     },
     "execution_count": 43,
     "metadata": {},
     "output_type": "execute_result"
    }
   ],
   "source": [
    "x.T"
   ]
  },
  {
   "cell_type": "code",
   "execution_count": 44,
   "id": "76e10870-ae8e-420d-8012-ac160dc763b8",
   "metadata": {},
   "outputs": [
    {
     "data": {
      "text/plain": [
       "array([[ 0,  4,  8],\n",
       "       [ 1,  5,  9],\n",
       "       [ 2,  6, 10],\n",
       "       [ 3,  7, 11]])"
      ]
     },
     "execution_count": 44,
     "metadata": {},
     "output_type": "execute_result"
    }
   ],
   "source": [
    "x.transpose()"
   ]
  },
  {
   "cell_type": "markdown",
   "id": "metallic-portable",
   "metadata": {},
   "source": [
    "**Discussion**: Let's try out each of them.  Why does Numpy have these options?  What's the benefit?"
   ]
  },
  {
   "cell_type": "code",
   "execution_count": 39,
   "id": "opponent-binary",
   "metadata": {},
   "outputs": [
    {
     "data": {
      "text/plain": [
       "array([[ 0,  4,  8],\n",
       "       [ 1,  5,  9],\n",
       "       [ 2,  6, 10],\n",
       "       [ 3,  7, 11]])"
      ]
     },
     "execution_count": 39,
     "metadata": {},
     "output_type": "execute_result"
    }
   ],
   "source": [
    "np.transpose(x)"
   ]
  },
  {
   "cell_type": "code",
   "execution_count": 40,
   "id": "dried-employee",
   "metadata": {},
   "outputs": [
    {
     "data": {
      "text/plain": [
       "array([[ 0,  4,  8],\n",
       "       [ 1,  5,  9],\n",
       "       [ 2,  6, 10],\n",
       "       [ 3,  7, 11]])"
      ]
     },
     "execution_count": 40,
     "metadata": {},
     "output_type": "execute_result"
    }
   ],
   "source": [
    "np.transpose(np.arange(12).reshape(3, 4))"
   ]
  },
  {
   "cell_type": "code",
   "execution_count": 54,
   "id": "under-great",
   "metadata": {},
   "outputs": [
    {
     "data": {
      "text/plain": [
       "array([[ 0,  4,  8],\n",
       "       [ 1,  5,  9],\n",
       "       [ 2,  6, 10],\n",
       "       [ 3,  7, 11]])"
      ]
     },
     "execution_count": 54,
     "metadata": {},
     "output_type": "execute_result"
    }
   ],
   "source": [
    "x.swapaxes(0,1)"
   ]
  },
  {
   "cell_type": "code",
   "execution_count": null,
   "id": "universal-hawaiian",
   "metadata": {},
   "outputs": [],
   "source": []
  },
  {
   "cell_type": "markdown",
   "id": "civic-minnesota",
   "metadata": {},
   "source": [
    "### Aggregating Across Axes\n",
    "\n",
    "Almost all of the Numpy functions have an **axis** option, which lets you limit the operation to just that axis.  \n",
    "\n",
    "For example, to get the mean of all rows:\n",
    "\n",
    "```python\n",
    ">>> array = np.arange(12).reshape(3, 4)\n",
    ">>> array.mean(axis=0)\n",
    "array([4., 5., 6., 7.])\n",
    "```\n",
    "\n",
    "And the mean of the columns:\n",
    "\n",
    "```python\n",
    ">>> array.mean(axis=1)\n",
    "array([1.5, 5.5, 9.5])\n",
    "```\n",
    "\n",
    "Notice that the number of dimensions goes down by default whenever you aggregate across the axis.  If you'd like to keep the dimensions the same, you can also use the **keepdims=True** option:\n",
    "\n",
    "```python\n",
    ">>> array.mean(axis=1, keepdims=True)\n",
    "array([[1.5],\n",
    "       [5.5],\n",
    "       [9.5]])\n",
    "```"
   ]
  },
  {
   "cell_type": "markdown",
   "id": "sufficient-envelope",
   "metadata": {},
   "source": [
    "**Exercises**: Try it out for yourself, with the provided array \"data\":"
   ]
  },
  {
   "cell_type": "code",
   "execution_count": 55,
   "id": "czech-sponsorship",
   "metadata": {},
   "outputs": [
    {
     "data": {
      "text/plain": [
       "array([[  6,  30, 700],\n",
       "       [  4,  60, 900],\n",
       "       [  2,  60, 700],\n",
       "       [  4,  30, 700],\n",
       "       [  7,  20, 500]])"
      ]
     },
     "execution_count": 55,
     "metadata": {},
     "output_type": "execute_result"
    }
   ],
   "source": [
    "np.random.seed(42)\n",
    "data = np.random.randint(0, 10, size=(5, 3)) * [1, 10, 100]\n",
    "data"
   ]
  },
  {
   "cell_type": "markdown",
   "id": "peaceful-lincoln",
   "metadata": {},
   "source": [
    "1. What is the mean of each column?"
   ]
  },
  {
   "cell_type": "markdown",
   "id": "contained-valuable",
   "metadata": {},
   "source": [
    "array.mean(axis=1"
   ]
  },
  {
   "cell_type": "code",
   "execution_count": 57,
   "id": "f57111a7-ff49-49a7-84fd-e272668f5564",
   "metadata": {},
   "outputs": [
    {
     "data": {
      "text/plain": [
       "array([245.33333333, 321.33333333, 254.        , 244.66666667,\n",
       "       175.66666667])"
      ]
     },
     "execution_count": 57,
     "metadata": {},
     "output_type": "execute_result"
    }
   ],
   "source": [
    "data.mean(axis=1)"
   ]
  },
  {
   "cell_type": "markdown",
   "id": "allied-plenty",
   "metadata": {},
   "source": [
    "2. What is the standard deviation of each row?"
   ]
  },
  {
   "cell_type": "code",
   "execution_count": 58,
   "id": "powered-beauty",
   "metadata": {},
   "outputs": [
    {
     "data": {
      "text/plain": [
       "array([  1.74355958,  16.73320053, 126.49110641])"
      ]
     },
     "execution_count": 58,
     "metadata": {},
     "output_type": "execute_result"
    }
   ],
   "source": [
    "data.std(axis=0)"
   ]
  },
  {
   "cell_type": "markdown",
   "id": "spare-split",
   "metadata": {},
   "source": [
    "3. What is the mean of each column's median?"
   ]
  },
  {
   "cell_type": "code",
   "execution_count": 64,
   "id": "differential-hanging",
   "metadata": {},
   "outputs": [
    {
     "data": {
      "text/plain": [
       "40.0"
      ]
     },
     "execution_count": 64,
     "metadata": {},
     "output_type": "execute_result"
    }
   ],
   "source": [
    "y = np.median(data, axis=1)\n",
    "np.mean(y)"
   ]
  },
  {
   "cell_type": "markdown",
   "id": "invisible-document",
   "metadata": {},
   "source": [
    "## Indexing Exercises"
   ]
  },
  {
   "cell_type": "markdown",
   "id": "broke-print",
   "metadata": {},
   "source": [
    "Numpy arrays work the same way as other sequences, but they can have multiple dimensions (rows, columns, etc) over which to index/slice the array.\n",
    "\n",
    "```python\n",
    "data = np.array([[0, 1, 2,  3],\n",
    "                 [4, 5, 6,  7],\n",
    "                 [8, 9, 10, 11]]\n",
    "               )\n",
    "second_row = data[1, :]\n",
    "third_column = data[:, 2]\n",
    "```"
   ]
  },
  {
   "cell_type": "markdown",
   "id": "norman-egyptian",
   "metadata": {},
   "source": [
    "Using the example dataset *scores*, select only the described elements from each list:"
   ]
  },
  {
   "cell_type": "code",
   "execution_count": 66,
   "id": "pretty-filing",
   "metadata": {},
   "outputs": [
    {
     "data": {
      "text/plain": [
       "array([[ 1,  2,  3,  4,  5,  6,  7,  8],\n",
       "       [ 9, 10, 11, 12, 13, 14, 15, 16],\n",
       "       [17, 18, 19, 20, 21, 22, 23, 24],\n",
       "       [25, 26, 27, 28, 29, 30, 31, 32],\n",
       "       [33, 34, 35, 36, 37, 38, 39, 40],\n",
       "       [41, 42, 43, 44, 45, 46, 47, 48]])"
      ]
     },
     "execution_count": 66,
     "metadata": {},
     "output_type": "execute_result"
    }
   ],
   "source": [
    "scores = np.arange(1, 49).reshape(6, 8)\n",
    "scores"
   ]
  },
  {
   "cell_type": "markdown",
   "id": "chemical-cambridge",
   "metadata": {},
   "source": [
    "The first score in the 2nd row:"
   ]
  },
  {
   "cell_type": "code",
   "execution_count": 73,
   "id": "collected-services",
   "metadata": {},
   "outputs": [
    {
     "data": {
      "text/plain": [
       "9"
      ]
     },
     "execution_count": 73,
     "metadata": {},
     "output_type": "execute_result"
    }
   ],
   "source": [
    "scores[1,0]"
   ]
  },
  {
   "cell_type": "markdown",
   "id": "surrounded-drink",
   "metadata": {},
   "source": [
    "The third-through-fifth columns:"
   ]
  },
  {
   "cell_type": "code",
   "execution_count": 76,
   "id": "plastic-miracle",
   "metadata": {},
   "outputs": [
    {
     "data": {
      "text/plain": [
       "array([[17, 18, 19, 20, 21, 22, 23, 24],\n",
       "       [25, 26, 27, 28, 29, 30, 31, 32],\n",
       "       [33, 34, 35, 36, 37, 38, 39, 40]])"
      ]
     },
     "execution_count": 76,
     "metadata": {},
     "output_type": "execute_result"
    }
   ],
   "source": [
    "scores[2:5]"
   ]
  },
  {
   "cell_type": "markdown",
   "id": "relative-section",
   "metadata": {},
   "source": [
    "The last score:"
   ]
  },
  {
   "cell_type": "code",
   "execution_count": 77,
   "id": "middle-keeping",
   "metadata": {},
   "outputs": [
    {
     "data": {
      "text/plain": [
       "48"
      ]
     },
     "execution_count": 77,
     "metadata": {},
     "output_type": "execute_result"
    }
   ],
   "source": [
    "scores[-1,-1]"
   ]
  },
  {
   "cell_type": "markdown",
   "id": "young-quebec",
   "metadata": {},
   "source": [
    "The 2nd through 5th score, in the 6th column:"
   ]
  },
  {
   "cell_type": "code",
   "execution_count": 82,
   "id": "tested-style",
   "metadata": {},
   "outputs": [
    {
     "data": {
      "text/plain": [
       "array([14, 22, 30, 38, 46])"
      ]
     },
     "execution_count": 82,
     "metadata": {},
     "output_type": "execute_result"
    }
   ],
   "source": [
    "scores[1:6,5]"
   ]
  },
  {
   "cell_type": "markdown",
   "id": "supported-immune",
   "metadata": {},
   "source": [
    "All the scores greater than 20:"
   ]
  },
  {
   "cell_type": "code",
   "execution_count": 81,
   "id": "thick-zimbabwe",
   "metadata": {},
   "outputs": [
    {
     "ename": "SyntaxError",
     "evalue": "invalid syntax (<ipython-input-81-1c560ef1b352>, line 1)",
     "output_type": "error",
     "traceback": [
      "\u001b[0;36m  File \u001b[0;32m\"<ipython-input-81-1c560ef1b352>\"\u001b[0;36m, line \u001b[0;32m1\u001b[0m\n\u001b[0;31m    scores[>20]\u001b[0m\n\u001b[0m           ^\u001b[0m\n\u001b[0;31mSyntaxError\u001b[0m\u001b[0;31m:\u001b[0m invalid syntax\n"
     ]
    }
   ],
   "source": []
  },
  {
   "cell_type": "markdown",
   "id": "golden-trail",
   "metadata": {},
   "source": [
    "The rectangle inscribed by scores 19, 22, 35, and 38:"
   ]
  },
  {
   "cell_type": "code",
   "execution_count": 87,
   "id": "contrary-tablet",
   "metadata": {},
   "outputs": [
    {
     "data": {
      "text/plain": [
       "array([[19, 20, 21, 22],\n",
       "       [27, 28, 29, 30],\n",
       "       [35, 36, 37, 38]])"
      ]
     },
     "execution_count": 87,
     "metadata": {},
     "output_type": "execute_result"
    }
   ],
   "source": [
    "scores[2:5,2:6]"
   ]
  },
  {
   "cell_type": "markdown",
   "id": "arctic-glance",
   "metadata": {},
   "source": [
    "The rectangle inscribed by scores 42, 44, 12, and 10:"
   ]
  },
  {
   "cell_type": "code",
   "execution_count": 90,
   "id": "solid-mason",
   "metadata": {},
   "outputs": [
    {
     "data": {
      "text/plain": [
       "array([[10, 11, 12],\n",
       "       [18, 19, 20],\n",
       "       [26, 27, 28],\n",
       "       [34, 35, 36],\n",
       "       [42, 43, 44]])"
      ]
     },
     "execution_count": 90,
     "metadata": {},
     "output_type": "execute_result"
    }
   ],
   "source": [
    "scores[1:6,1:4]"
   ]
  },
  {
   "cell_type": "markdown",
   "id": "dated-leader",
   "metadata": {},
   "source": [
    "##### Setting New Values\n",
    "\n",
    "For arrays, indexing can also be used to assign a new value.  Let's try it out, using the following pattern:\n",
    "\n",
    "```python\n",
    "data[0, :] = 10  # changes all values in the first row to 10\n",
    "data\n",
    "```"
   ]
  },
  {
   "cell_type": "code",
   "execution_count": 91,
   "id": "composite-tower",
   "metadata": {},
   "outputs": [
    {
     "data": {
      "text/plain": [
       "array([[ 1,  2,  3,  4,  5,  6,  7,  8],\n",
       "       [ 9, 10, 11, 12, 13, 14, 15, 16],\n",
       "       [17, 18, 19, 20, 21, 22, 23, 24],\n",
       "       [25, 26, 27, 28, 29, 30, 31, 32],\n",
       "       [33, 34, 35, 36, 37, 38, 39, 40],\n",
       "       [41, 42, 43, 44, 45, 46, 47, 48]])"
      ]
     },
     "execution_count": 91,
     "metadata": {},
     "output_type": "execute_result"
    }
   ],
   "source": [
    "scores = np.arange(1, 49).reshape(6, 8)\n",
    "scores"
   ]
  },
  {
   "cell_type": "markdown",
   "id": "close-listening",
   "metadata": {},
   "source": [
    "Change the 3rd column to all 10s:"
   ]
  },
  {
   "cell_type": "code",
   "execution_count": 94,
   "id": "bound-cambodia",
   "metadata": {},
   "outputs": [
    {
     "data": {
      "text/plain": [
       "array([[ 1,  2, 10,  4,  5,  6,  7,  8],\n",
       "       [ 9, 10, 10, 12, 13, 14, 15, 16],\n",
       "       [17, 18, 10, 20, 21, 22, 23, 24],\n",
       "       [25, 26, 10, 28, 29, 30, 31, 32],\n",
       "       [33, 34, 10, 36, 37, 38, 39, 40],\n",
       "       [41, 42, 10, 44, 45, 46, 47, 48]])"
      ]
     },
     "execution_count": 94,
     "metadata": {},
     "output_type": "execute_result"
    }
   ],
   "source": [
    "scores[:,2] = 10\n",
    "scores"
   ]
  },
  {
   "cell_type": "markdown",
   "id": "adult-blues",
   "metadata": {},
   "source": [
    "Change the last score to 999:"
   ]
  },
  {
   "cell_type": "code",
   "execution_count": 96,
   "id": "charming-singing",
   "metadata": {},
   "outputs": [
    {
     "data": {
      "text/plain": [
       "array([[  1,   2,  10,   4,   5,   6,   7,   8],\n",
       "       [  9,  10,  10,  12,  13,  14,  15,  16],\n",
       "       [ 17,  18,  10,  20,  21,  22,  23,  24],\n",
       "       [ 25,  26,  10,  28,  29,  30,  31,  32],\n",
       "       [ 33,  34,  10,  36,  37,  38,  39,  40],\n",
       "       [ 41,  42,  10,  44,  45,  46,  47, 999]])"
      ]
     },
     "execution_count": 96,
     "metadata": {},
     "output_type": "execute_result"
    }
   ],
   "source": [
    "scores[-1,-1] = 999\n",
    "scores"
   ]
  },
  {
   "cell_type": "markdown",
   "id": "blond-watts",
   "metadata": {},
   "source": [
    "Change the 4th row to 0:"
   ]
  },
  {
   "cell_type": "code",
   "execution_count": 98,
   "id": "representative-ultimate",
   "metadata": {},
   "outputs": [
    {
     "data": {
      "text/plain": [
       "array([[  1,   2,  10,   4,   5,   6,   7,   8],\n",
       "       [  9,  10,  10,  12,  13,  14,  15,  16],\n",
       "       [ 17,  18,  10,  20,  21,  22,  23,  24],\n",
       "       [  0,   0,   0,   0,   0,   0,   0,   0],\n",
       "       [ 33,  34,  10,  36,  37,  38,  39,  40],\n",
       "       [ 41,  42,  10,  44,  45,  46,  47, 999]])"
      ]
     },
     "execution_count": 98,
     "metadata": {},
     "output_type": "execute_result"
    }
   ],
   "source": [
    "scores[3,:]=0\n",
    "scores"
   ]
  },
  {
   "cell_type": "markdown",
   "id": "operational-thong",
   "metadata": {},
   "source": [
    "Change the 5th column to nan  (e.g. np.nan)"
   ]
  },
  {
   "cell_type": "code",
   "execution_count": 102,
   "id": "pursuant-quebec",
   "metadata": {},
   "outputs": [
    {
     "ename": "ValueError",
     "evalue": "cannot convert float NaN to integer",
     "output_type": "error",
     "traceback": [
      "\u001b[0;31m---------------------------------------------------------------------------\u001b[0m",
      "\u001b[0;31mValueError\u001b[0m                                Traceback (most recent call last)",
      "\u001b[0;32m<ipython-input-102-8c69feea7bf1>\u001b[0m in \u001b[0;36m<module>\u001b[0;34m\u001b[0m\n\u001b[0;32m----> 1\u001b[0;31m \u001b[0mscores\u001b[0m\u001b[0;34m[\u001b[0m\u001b[0;34m:\u001b[0m\u001b[0;34m,\u001b[0m\u001b[0;36m4\u001b[0m\u001b[0;34m]\u001b[0m \u001b[0;34m=\u001b[0m \u001b[0mnp\u001b[0m\u001b[0;34m.\u001b[0m\u001b[0mnan\u001b[0m\u001b[0;34m\u001b[0m\u001b[0;34m\u001b[0m\u001b[0m\n\u001b[0m",
      "\u001b[0;31mValueError\u001b[0m: cannot convert float NaN to integer"
     ]
    }
   ],
   "source": [
    "scores[:,4] = np.nan"
   ]
  }
 ],
 "metadata": {
  "kernelspec": {
   "display_name": "Python 3",
   "language": "python",
   "name": "python3"
  },
  "language_info": {
   "codemirror_mode": {
    "name": "ipython",
    "version": 3
   },
   "file_extension": ".py",
   "mimetype": "text/x-python",
   "name": "python",
   "nbconvert_exporter": "python",
   "pygments_lexer": "ipython3",
   "version": "3.8.1"
  }
 },
 "nbformat": 4,
 "nbformat_minor": 5
}
