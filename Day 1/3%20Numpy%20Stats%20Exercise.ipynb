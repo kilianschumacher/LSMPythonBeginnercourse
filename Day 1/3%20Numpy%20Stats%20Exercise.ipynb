{
 "cells": [
  {
   "cell_type": "code",
   "execution_count": 2,
   "id": "downtown-blowing",
   "metadata": {},
   "outputs": [],
   "source": [
    "import numpy as np"
   ]
  },
  {
   "cell_type": "markdown",
   "id": "decreased-generator",
   "metadata": {},
   "source": [
    "# Exercise: Data Collection and Analysis\n",
    "\n",
    "Let's create some data! Make a variable called **reaction_times** containing a list of 15 reactrion time samples from this experiment:  https://humanbenchmark.com/tests/reactiontime\n"
   ]
  },
  {
   "cell_type": "code",
   "execution_count": 1,
   "id": "raising-hardware",
   "metadata": {},
   "outputs": [],
   "source": [
    "reaction_times = [598, 346, 320, 265, 281, 281, 297, 394, 321, 298, 264, 334, 260, 279, 249]    # Your Data Goes here"
   ]
  },
  {
   "cell_type": "markdown",
   "id": "authorized-explosion",
   "metadata": {},
   "source": [
    "#### Analysis Questions"
   ]
  },
  {
   "cell_type": "markdown",
   "id": "olive-kernel",
   "metadata": {},
   "source": [
    "Were your reaction times quick on average?  Let's check the mean of your reaction times."
   ]
  },
  {
   "cell_type": "code",
   "execution_count": 3,
   "id": "blank-alert",
   "metadata": {},
   "outputs": [
    {
     "data": {
      "text/plain": [
       "319.1333333333333"
      ]
     },
     "execution_count": 3,
     "metadata": {},
     "output_type": "execute_result"
    }
   ],
   "source": [
    "np.mean(reaction_times)"
   ]
  },
  {
   "cell_type": "markdown",
   "id": "silver-migration",
   "metadata": {},
   "source": [
    "Did your reaction times vary a lot?  Let's check the standard deviation of your reaction time data."
   ]
  },
  {
   "cell_type": "code",
   "execution_count": 4,
   "id": "vocal-baptist",
   "metadata": {},
   "outputs": [
    {
     "data": {
      "text/plain": [
       "83.3305599538502"
      ]
     },
     "execution_count": 4,
     "metadata": {},
     "output_type": "execute_result"
    }
   ],
   "source": [
    "np.std(reaction_times)"
   ]
  },
  {
   "cell_type": "markdown",
   "id": "corresponding-native",
   "metadata": {},
   "source": [
    "Did your reaction times improve or worsen over the course of the experiment?  Let's check the correlation of your reaction time data"
   ]
  },
  {
   "cell_type": "code",
   "execution_count": 7,
   "id": "heated-reach",
   "metadata": {},
   "outputs": [
    {
     "data": {
      "text/plain": [
       "1.0"
      ]
     },
     "execution_count": 7,
     "metadata": {},
     "output_type": "execute_result"
    }
   ],
   "source": [
    "np.corrcoef(reaction_times)"
   ]
  },
  {
   "cell_type": "markdown",
   "id": "going-township",
   "metadata": {},
   "source": [
    "## Data Export/Import\n",
    "\n",
    "Let's compare our reaction times to someone else!  Export your list of reaction times to a text file, to give to your partner."
   ]
  },
  {
   "cell_type": "code",
   "execution_count": 9,
   "id": "permanent-crawford",
   "metadata": {},
   "outputs": [],
   "source": [
    "data = [598, 346, 320, 265, 281, 281, 297, 394, 321, 298, 264, 334, 260, 279, 249]  # replace this with your data\n",
    "np.savetxt(\"reaction_times_kilian.txt\", data)"
   ]
  },
  {
   "cell_type": "markdown",
   "id": "fifty-offense",
   "metadata": {},
   "source": [
    "Trade files with your partner and load their data"
   ]
  },
  {
   "cell_type": "code",
   "execution_count": 10,
   "id": "thick-sewing",
   "metadata": {},
   "outputs": [],
   "source": [
    "reaction_times2 = np.loadtxt(\"reaction_times_vera.txt\")"
   ]
  },
  {
   "cell_type": "code",
   "execution_count": 13,
   "id": "e097ff15-f1ba-47de-9d2d-605df9129fa9",
   "metadata": {},
   "outputs": [],
   "source": [
    "reaction_times3 = np.loadtxt(\"reaction_times_paula.txt\")"
   ]
  },
  {
   "cell_type": "markdown",
   "id": "reverse-fraud",
   "metadata": {},
   "source": [
    "### Can you reproduce their results?  "
   ]
  },
  {
   "cell_type": "markdown",
   "id": "continuing-context",
   "metadata": {},
   "source": [
    "Were their reaction times quick on average?  Let's check the mean of their reaction times."
   ]
  },
  {
   "cell_type": "code",
   "execution_count": 12,
   "id": "magnetic-illinois",
   "metadata": {},
   "outputs": [
    {
     "data": {
      "text/plain": [
       "array([437., 392., 438., 336., 396., 361., 354., 330., 366., 414., 449.,\n",
       "       383., 398., 372., 410.])"
      ]
     },
     "execution_count": 12,
     "metadata": {},
     "output_type": "execute_result"
    }
   ],
   "source": [
    "np.mean(reaction_times2)\n"
   ]
  },
  {
   "cell_type": "code",
   "execution_count": 14,
   "id": "6d6fd89c-a620-4966-9305-d09817bbc514",
   "metadata": {},
   "outputs": [
    {
     "data": {
      "text/plain": [
       "2111.266666666667"
      ]
     },
     "execution_count": 14,
     "metadata": {},
     "output_type": "execute_result"
    }
   ],
   "source": [
    "np.mean(reaction_times3)"
   ]
  },
  {
   "cell_type": "markdown",
   "id": "french-garage",
   "metadata": {},
   "source": [
    "Did their reaction times vary a lot?  Let's check the standard deviation of their reaction time data."
   ]
  },
  {
   "cell_type": "code",
   "execution_count": 15,
   "id": "sudden-passage",
   "metadata": {},
   "outputs": [
    {
     "data": {
      "text/plain": [
       "35.27315630271206"
      ]
     },
     "execution_count": 15,
     "metadata": {},
     "output_type": "execute_result"
    }
   ],
   "source": [
    "np.std(reaction_times2)"
   ]
  },
  {
   "cell_type": "code",
   "execution_count": 16,
   "id": "371c5e5e-5d47-4894-9c8e-3da5e2e14c27",
   "metadata": {},
   "outputs": [
    {
     "data": {
      "text/plain": [
       "4868.425227479164"
      ]
     },
     "execution_count": 16,
     "metadata": {},
     "output_type": "execute_result"
    }
   ],
   "source": [
    "np.std(reaction_times3)"
   ]
  },
  {
   "cell_type": "markdown",
   "id": "better-shanghai",
   "metadata": {},
   "source": [
    "Did their reaction times improve or worsen over the course of the experiment?  Let's check the correlation of their reaction time data"
   ]
  },
  {
   "cell_type": "code",
   "execution_count": null,
   "id": "historical-terrorism",
   "metadata": {},
   "outputs": [],
   "source": []
  },
  {
   "cell_type": "markdown",
   "id": "hairy-passion",
   "metadata": {},
   "source": [
    "Did your reaction times differ significantly between you and your partner?  Let's check using a t-test and see if the t-statistic is high and the p-value is low.\n",
    "\n",
    "Example Code:  \n",
    "\n",
    "```python\n",
    "from scipy import stats\n",
    "stats.ttest_ind([1, 2, 3], [2, 3, 4])  \n",
    "```"
   ]
  },
  {
   "cell_type": "code",
   "execution_count": 24,
   "id": "certified-niger",
   "metadata": {},
   "outputs": [],
   "source": [
    "from scipy import stats"
   ]
  },
  {
   "cell_type": "code",
   "execution_count": null,
   "id": "d4e1f891-04e7-491a-b873-9dac6c1857dc",
   "metadata": {},
   "outputs": [],
   "source": []
  },
  {
   "cell_type": "code",
   "execution_count": 18,
   "id": "94d7e913-e792-42c5-9b50-bc914c26215d",
   "metadata": {},
   "outputs": [
    {
     "data": {
      "text/plain": [
       "Ttest_indResult(statistic=-2.8917091908720267, pvalue=0.007329842509280796)"
      ]
     },
     "execution_count": 18,
     "metadata": {},
     "output_type": "execute_result"
    }
   ],
   "source": [
    "stats.ttest_ind(reaction_times, reaction_times2)"
   ]
  },
  {
   "cell_type": "code",
   "execution_count": 19,
   "id": "7c8ed80a-a8e3-4118-a2fa-12cb4f4046e9",
   "metadata": {},
   "outputs": [
    {
     "data": {
      "text/plain": [
       "Ttest_indResult(statistic=-1.3771530928045947, pvalue=0.1793758008564157)"
      ]
     },
     "execution_count": 19,
     "metadata": {},
     "output_type": "execute_result"
    }
   ],
   "source": [
    "stats.ttest_ind(reaction_times, reaction_times3)"
   ]
  },
  {
   "cell_type": "markdown",
   "id": "legitimate-junction",
   "metadata": {},
   "source": [
    "What other statistics functions are in the scipy.stats module?  Explore the module (documaentation here: https://docs.scipy.org/doc/scipy/reference/stats.html) and  calculate 3 other statistics on the data you have:"
   ]
  },
  {
   "cell_type": "code",
   "execution_count": 20,
   "id": "ee04ddc8-aa00-408d-a68d-fce719fcc40d",
   "metadata": {},
   "outputs": [
    {
     "data": {
      "text/plain": [
       "[598, 346, 320, 265, 281, 281, 297, 394, 321, 298, 264, 334, 260, 279, 249]"
      ]
     },
     "execution_count": 20,
     "metadata": {},
     "output_type": "execute_result"
    }
   ],
   "source": [
    "reaction_times"
   ]
  },
  {
   "cell_type": "code",
   "execution_count": 21,
   "id": "e39be0b6-c162-411d-9e66-3844892f4c59",
   "metadata": {},
   "outputs": [
    {
     "data": {
      "text/plain": [
       "array([437., 392., 438., 336., 396., 361., 354., 330., 366., 414., 449.,\n",
       "       383., 398., 372., 410.])"
      ]
     },
     "execution_count": 21,
     "metadata": {},
     "output_type": "execute_result"
    }
   ],
   "source": [
    "reaction_times2"
   ]
  },
  {
   "cell_type": "code",
   "execution_count": 22,
   "id": "a2782511-35ac-4013-b044-63ef0ee3d3ce",
   "metadata": {},
   "outputs": [
    {
     "data": {
      "text/plain": [
       "array([ 2709., 19726.,   374.,   370.,  4917.,   262.,   296.,   720.,\n",
       "         491.,   416.,   301.,   225.,   283.,   292.,   287.])"
      ]
     },
     "execution_count": 22,
     "metadata": {},
     "output_type": "execute_result"
    }
   ],
   "source": [
    "reaction_times3"
   ]
  },
  {
   "cell_type": "code",
   "execution_count": null,
   "id": "2f6011b1-35ad-4056-8555-2a7d0c01dfd7",
   "metadata": {},
   "outputs": [],
   "source": []
  },
  {
   "cell_type": "code",
   "execution_count": 39,
   "id": "49220904-50fc-4caf-8ea5-166af32af958",
   "metadata": {},
   "outputs": [],
   "source": [
    "vera = reaction_times2"
   ]
  },
  {
   "cell_type": "code",
   "execution_count": 40,
   "id": "029e207c-9724-47de-b9be-46506c82ffb5",
   "metadata": {},
   "outputs": [
    {
     "data": {
      "text/plain": [
       "array([437., 392., 438., 336., 396., 361., 354., 330., 366., 414., 449.,\n",
       "       383., 398., 372., 410.])"
      ]
     },
     "execution_count": 40,
     "metadata": {},
     "output_type": "execute_result"
    }
   ],
   "source": [
    "vera"
   ]
  },
  {
   "cell_type": "code",
   "execution_count": 42,
   "id": "446ec176-f07b-44ef-9562-e5a1534e1e4a",
   "metadata": {},
   "outputs": [],
   "source": [
    "kilian = reaction_times"
   ]
  },
  {
   "cell_type": "code",
   "execution_count": 43,
   "id": "6494f3cc-6b5c-47e1-b208-93963e010b01",
   "metadata": {},
   "outputs": [
    {
     "data": {
      "text/plain": [
       "[598, 346, 320, 265, 281, 281, 297, 394, 321, 298, 264, 334, 260, 279, 249]"
      ]
     },
     "execution_count": 43,
     "metadata": {},
     "output_type": "execute_result"
    }
   ],
   "source": [
    "kilian"
   ]
  },
  {
   "cell_type": "code",
   "execution_count": 44,
   "id": "44f4aaf3-2436-45dc-b9c3-fa2ab4f2fb64",
   "metadata": {},
   "outputs": [],
   "source": [
    "paula = reaction_times3"
   ]
  },
  {
   "cell_type": "code",
   "execution_count": 45,
   "id": "6d3b9c7c-9cc5-4055-8678-beec27d08a63",
   "metadata": {},
   "outputs": [
    {
     "data": {
      "text/plain": [
       "array([ 2709., 19726.,   374.,   370.,  4917.,   262.,   296.,   720.,\n",
       "         491.,   416.,   301.,   225.,   283.,   292.,   287.])"
      ]
     },
     "execution_count": 45,
     "metadata": {},
     "output_type": "execute_result"
    }
   ],
   "source": [
    "paula"
   ]
  },
  {
   "cell_type": "markdown",
   "id": "major-latitude",
   "metadata": {},
   "source": [
    "Stats 1:"
   ]
  },
  {
   "cell_type": "code",
   "execution_count": 27,
   "id": "opponent-seminar",
   "metadata": {},
   "outputs": [],
   "source": [
    "from scipy import stats"
   ]
  },
  {
   "cell_type": "code",
   "execution_count": 46,
   "id": "0bcdc864-eed5-4f3a-908b-d99767ae3111",
   "metadata": {},
   "outputs": [
    {
     "data": {
      "text/plain": [
       "RanksumsResult(statistic=-3.5878528637672713, pvalue=0.00033341234141853304)"
      ]
     },
     "execution_count": 46,
     "metadata": {},
     "output_type": "execute_result"
    }
   ],
   "source": [
    "stats.ranksums(kilian, vera)"
   ]
  },
  {
   "cell_type": "markdown",
   "id": "streaming-reserve",
   "metadata": {},
   "source": [
    "Stats 2:"
   ]
  },
  {
   "cell_type": "code",
   "execution_count": 47,
   "id": "republican-leadership",
   "metadata": {},
   "outputs": [
    {
     "data": {
      "text/plain": [
       "AnsariResult(statistic=104.0, pvalue=0.1834812786386809)"
      ]
     },
     "execution_count": 47,
     "metadata": {},
     "output_type": "execute_result"
    }
   ],
   "source": [
    "stats.ansari(kilian, vera)"
   ]
  },
  {
   "cell_type": "markdown",
   "id": "meaningful-disaster",
   "metadata": {},
   "source": [
    "Stats 3:"
   ]
  },
  {
   "cell_type": "code",
   "execution_count": 48,
   "id": "resident-nickname",
   "metadata": {},
   "outputs": [
    {
     "data": {
      "text/plain": [
       "ShapiroResult(statistic=0.42615342140197754, pvalue=9.438223855795513e-07)"
      ]
     },
     "execution_count": 48,
     "metadata": {},
     "output_type": "execute_result"
    }
   ],
   "source": [
    "stats.shapiro(paula)"
   ]
  },
  {
   "cell_type": "code",
   "execution_count": 49,
   "id": "e1375d76-b3ba-4652-afef-2dfb98db9373",
   "metadata": {},
   "outputs": [
    {
     "data": {
      "text/plain": [
       "F_onewayResult(statistic=1.896550641021259, pvalue=0.1793758008564158)"
      ]
     },
     "execution_count": 49,
     "metadata": {},
     "output_type": "execute_result"
    }
   ],
   "source": [
    "stats.f_oneway(kilian, paula)"
   ]
  },
  {
   "cell_type": "code",
   "execution_count": 50,
   "id": "675aab03-2a28-4ec4-af61-0b257d3a92e6",
   "metadata": {},
   "outputs": [
    {
     "ename": "TypeError",
     "evalue": "at least two inputs are required; got 1.",
     "output_type": "error",
     "traceback": [
      "\u001b[0;31m---------------------------------------------------------------------------\u001b[0m",
      "\u001b[0;31mTypeError\u001b[0m                                 Traceback (most recent call last)",
      "\u001b[0;32m<ipython-input-50-78a9bfe1e7fb>\u001b[0m in \u001b[0;36m<module>\u001b[0;34m\u001b[0m\n\u001b[0;32m----> 1\u001b[0;31m \u001b[0mstats\u001b[0m\u001b[0;34m.\u001b[0m\u001b[0mf_oneway\u001b[0m\u001b[0;34m(\u001b[0m\u001b[0mkilian\u001b[0m\u001b[0;34m)\u001b[0m\u001b[0;34m\u001b[0m\u001b[0;34m\u001b[0m\u001b[0m\n\u001b[0m",
      "\u001b[0;32m~/opt/anaconda3/lib/python3.8/site-packages/scipy/stats/stats.py\u001b[0m in \u001b[0;36mf_oneway\u001b[0;34m(axis, *args)\u001b[0m\n\u001b[1;32m   3661\u001b[0m     \"\"\"\n\u001b[1;32m   3662\u001b[0m     \u001b[0;32mif\u001b[0m \u001b[0mlen\u001b[0m\u001b[0;34m(\u001b[0m\u001b[0margs\u001b[0m\u001b[0;34m)\u001b[0m \u001b[0;34m<\u001b[0m \u001b[0;36m2\u001b[0m\u001b[0;34m:\u001b[0m\u001b[0;34m\u001b[0m\u001b[0;34m\u001b[0m\u001b[0m\n\u001b[0;32m-> 3663\u001b[0;31m         \u001b[0;32mraise\u001b[0m \u001b[0mTypeError\u001b[0m\u001b[0;34m(\u001b[0m\u001b[0;34mf'at least two inputs are required; got {len(args)}.'\u001b[0m\u001b[0;34m)\u001b[0m\u001b[0;34m\u001b[0m\u001b[0;34m\u001b[0m\u001b[0m\n\u001b[0m\u001b[1;32m   3664\u001b[0m \u001b[0;34m\u001b[0m\u001b[0m\n\u001b[1;32m   3665\u001b[0m     \u001b[0margs\u001b[0m \u001b[0;34m=\u001b[0m \u001b[0;34m[\u001b[0m\u001b[0mnp\u001b[0m\u001b[0;34m.\u001b[0m\u001b[0masarray\u001b[0m\u001b[0;34m(\u001b[0m\u001b[0marg\u001b[0m\u001b[0;34m,\u001b[0m \u001b[0mdtype\u001b[0m\u001b[0;34m=\u001b[0m\u001b[0mfloat\u001b[0m\u001b[0;34m)\u001b[0m \u001b[0;32mfor\u001b[0m \u001b[0marg\u001b[0m \u001b[0;32min\u001b[0m \u001b[0margs\u001b[0m\u001b[0;34m]\u001b[0m\u001b[0;34m\u001b[0m\u001b[0;34m\u001b[0m\u001b[0m\n",
      "\u001b[0;31mTypeError\u001b[0m: at least two inputs are required; got 1."
     ]
    }
   ],
   "source": [
    "stats.f_oneway(kilian)"
   ]
  },
  {
   "cell_type": "code",
   "execution_count": 51,
   "id": "741e1485-c4ec-4962-b215-512d076f73b5",
   "metadata": {},
   "outputs": [
    {
     "data": {
      "text/plain": [
       "F_onewayResult(statistic=1.8253348701171803, pvalue=0.1737180221198992)"
      ]
     },
     "execution_count": 51,
     "metadata": {},
     "output_type": "execute_result"
    }
   ],
   "source": [
    "stats.f_oneway(paula, vera, kilian)"
   ]
  },
  {
   "cell_type": "code",
   "execution_count": 52,
   "id": "52427b01-97ff-4571-a248-576421cce0ed",
   "metadata": {},
   "outputs": [
    {
     "data": {
      "text/plain": [
       "\u001b[0;31mSignature:\u001b[0m       \u001b[0mstats\u001b[0m\u001b[0;34m.\u001b[0m\u001b[0mbinom\u001b[0m\u001b[0;34m(\u001b[0m\u001b[0;34m*\u001b[0m\u001b[0margs\u001b[0m\u001b[0;34m,\u001b[0m \u001b[0;34m**\u001b[0m\u001b[0mkwds\u001b[0m\u001b[0;34m)\u001b[0m\u001b[0;34m\u001b[0m\u001b[0;34m\u001b[0m\u001b[0m\n",
       "\u001b[0;31mType:\u001b[0m            binom_gen\n",
       "\u001b[0;31mString form:\u001b[0m     <scipy.stats._discrete_distns.binom_gen object at 0x7f9dea39f910>\n",
       "\u001b[0;31mFile:\u001b[0m            ~/opt/anaconda3/lib/python3.8/site-packages/scipy/stats/_discrete_distns.py\n",
       "\u001b[0;31mDocstring:\u001b[0m      \n",
       "A binomial discrete random variable.\n",
       "\n",
       "As an instance of the `rv_discrete` class, `binom` object inherits from it\n",
       "a collection of generic methods (see below for the full list),\n",
       "and completes them with details specific for this particular distribution.\n",
       "\n",
       "Methods\n",
       "-------\n",
       "rvs(n, p, loc=0, size=1, random_state=None)\n",
       "    Random variates.\n",
       "pmf(k, n, p, loc=0)\n",
       "    Probability mass function.\n",
       "logpmf(k, n, p, loc=0)\n",
       "    Log of the probability mass function.\n",
       "cdf(k, n, p, loc=0)\n",
       "    Cumulative distribution function.\n",
       "logcdf(k, n, p, loc=0)\n",
       "    Log of the cumulative distribution function.\n",
       "sf(k, n, p, loc=0)\n",
       "    Survival function  (also defined as ``1 - cdf``, but `sf` is sometimes more accurate).\n",
       "logsf(k, n, p, loc=0)\n",
       "    Log of the survival function.\n",
       "ppf(q, n, p, loc=0)\n",
       "    Percent point function (inverse of ``cdf`` --- percentiles).\n",
       "isf(q, n, p, loc=0)\n",
       "    Inverse survival function (inverse of ``sf``).\n",
       "stats(n, p, loc=0, moments='mv')\n",
       "    Mean('m'), variance('v'), skew('s'), and/or kurtosis('k').\n",
       "entropy(n, p, loc=0)\n",
       "    (Differential) entropy of the RV.\n",
       "expect(func, args=(n, p), loc=0, lb=None, ub=None, conditional=False)\n",
       "    Expected value of a function (of one argument) with respect to the distribution.\n",
       "median(n, p, loc=0)\n",
       "    Median of the distribution.\n",
       "mean(n, p, loc=0)\n",
       "    Mean of the distribution.\n",
       "var(n, p, loc=0)\n",
       "    Variance of the distribution.\n",
       "std(n, p, loc=0)\n",
       "    Standard deviation of the distribution.\n",
       "interval(alpha, n, p, loc=0)\n",
       "    Endpoints of the range that contains alpha percent of the distribution\n",
       "\n",
       "Notes\n",
       "-----\n",
       "The probability mass function for `binom` is:\n",
       "\n",
       ".. math::\n",
       "\n",
       "   f(k) = \\binom{n}{k} p^k (1-p)^{n-k}\n",
       "\n",
       "for ``k`` in ``{0, 1,..., n}``, :math:`0 \\leq p \\leq 1`\n",
       "\n",
       "`binom` takes ``n`` and ``p`` as shape parameters,\n",
       "where :math:`p` is the probability of a single success \n",
       "and :math:`1-p` is the probability of a single failure. \n",
       "\n",
       "The probability mass function above is defined in the \"standardized\" form.\n",
       "To shift distribution use the ``loc`` parameter.\n",
       "Specifically, ``binom.pmf(k, n, p, loc)`` is identically\n",
       "equivalent to ``binom.pmf(k - loc, n, p)``.\n",
       "\n",
       "Examples\n",
       "--------\n",
       ">>> from scipy.stats import binom\n",
       ">>> import matplotlib.pyplot as plt\n",
       ">>> fig, ax = plt.subplots(1, 1)\n",
       "\n",
       "Calculate a few first moments:\n",
       "\n",
       ">>> n, p = 5, 0.4\n",
       ">>> mean, var, skew, kurt = binom.stats(n, p, moments='mvsk')\n",
       "\n",
       "Display the probability mass function (``pmf``):\n",
       "\n",
       ">>> x = np.arange(binom.ppf(0.01, n, p),\n",
       "...               binom.ppf(0.99, n, p))\n",
       ">>> ax.plot(x, binom.pmf(x, n, p), 'bo', ms=8, label='binom pmf')\n",
       ">>> ax.vlines(x, 0, binom.pmf(x, n, p), colors='b', lw=5, alpha=0.5)\n",
       "\n",
       "Alternatively, the distribution object can be called (as a function)\n",
       "to fix the shape and location. This returns a \"frozen\" RV object holding\n",
       "the given parameters fixed.\n",
       "\n",
       "Freeze the distribution and display the frozen ``pmf``:\n",
       "\n",
       ">>> rv = binom(n, p)\n",
       ">>> ax.vlines(x, 0, rv.pmf(x), colors='k', linestyles='-', lw=1,\n",
       "...         label='frozen pmf')\n",
       ">>> ax.legend(loc='best', frameon=False)\n",
       ">>> plt.show()\n",
       "\n",
       "Check accuracy of ``cdf`` and ``ppf``:\n",
       "\n",
       ">>> prob = binom.cdf(x, n, p)\n",
       ">>> np.allclose(x, binom.ppf(prob, n, p))\n",
       "True\n",
       "\n",
       "Generate random numbers:\n",
       "\n",
       ">>> r = binom.rvs(n, p, size=1000)\n",
       "\n",
       "See Also\n",
       "--------\n",
       "hypergeom, nbinom, nhypergeom\n",
       "\u001b[0;31mClass docstring:\u001b[0m\n",
       "A binomial discrete random variable.\n",
       "\n",
       "%(before_notes)s\n",
       "\n",
       "Notes\n",
       "-----\n",
       "The probability mass function for `binom` is:\n",
       "\n",
       ".. math::\n",
       "\n",
       "   f(k) = \\binom{n}{k} p^k (1-p)^{n-k}\n",
       "\n",
       "for ``k`` in ``{0, 1,..., n}``, :math:`0 \\leq p \\leq 1`\n",
       "\n",
       "`binom` takes ``n`` and ``p`` as shape parameters,\n",
       "where :math:`p` is the probability of a single success \n",
       "and :math:`1-p` is the probability of a single failure. \n",
       "\n",
       "%(after_notes)s\n",
       "\n",
       "%(example)s\n",
       "\n",
       "See Also\n",
       "--------\n",
       "hypergeom, nbinom, nhypergeom\n",
       "\u001b[0;31mCall docstring:\u001b[0m \n",
       "Freeze the distribution for the given arguments.\n",
       "\n",
       "Parameters\n",
       "----------\n",
       "arg1, arg2, arg3,... : array_like\n",
       "    The shape parameter(s) for the distribution.  Should include all\n",
       "    the non-optional arguments, may include ``loc`` and ``scale``.\n",
       "\n",
       "Returns\n",
       "-------\n",
       "rv_frozen : rv_frozen instance\n",
       "    The frozen distribution.\n"
      ]
     },
     "metadata": {},
     "output_type": "display_data"
    }
   ],
   "source": [
    "stats.binom?"
   ]
  }
 ],
 "metadata": {
  "kernelspec": {
   "display_name": "Python 3",
   "language": "python",
   "name": "python3"
  },
  "language_info": {
   "codemirror_mode": {
    "name": "ipython",
    "version": 3
   },
   "file_extension": ".py",
   "mimetype": "text/x-python",
   "name": "python",
   "nbconvert_exporter": "python",
   "pygments_lexer": "ipython3",
   "version": "3.8.8"
  }
 },
 "nbformat": 4,
 "nbformat_minor": 5
}
