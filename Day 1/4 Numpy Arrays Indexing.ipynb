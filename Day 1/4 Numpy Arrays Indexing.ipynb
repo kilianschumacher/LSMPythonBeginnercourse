{
 "cells": [
  {
   "cell_type": "code",
   "execution_count": null,
   "id": "intimate-manor",
   "metadata": {},
   "outputs": [],
   "source": []
  },
  {
   "cell_type": "markdown",
   "id": "engaging-causing",
   "metadata": {
    "slideshow": {
     "slide_type": "slide"
    }
   },
   "source": [
    "## Extracting Data From a Collection: Indexing and Slicing\n",
    "\n",
    "Data can be indexed/queried/extracted from collectoins using the square brackets: [ ]\n",
    "\n",
    "In sequences, putting a number inside the the brackets extracts the nth (counting from zero) value\n",
    "```python\n",
    ">>> (1, 2, 3)[1]\n",
    "2\n",
    "\n",
    ">>> (1, 2, 3)[0]\n",
    "1\n",
    "\n",
    ">>> (1, 2, 3)[-1]\n",
    "3\n",
    "```\n",
    "\n",
    "You can \"slice\" a sequence (get all from one index to another index) using the colon [:]\n",
    "```python\n",
    ">>> (10, 20, 30, 40, 50, 60)[1:3]\n",
    "(20, 30)\n",
    "\n",
    ">>> (10, 20, 30, 40, 50, 60)[:3]\n",
    "(10, 20, 30)\n",
    "\n",
    ">>> (10, 20, 30, 40, 50, 60)[3:]\n",
    "(40, 50, 60)\n",
    "```\n"
   ]
  },
  {
   "cell_type": "markdown",
   "id": "basic-times",
   "metadata": {
    "slideshow": {
     "slide_type": "subslide"
    }
   },
   "source": [
    "## Indexing Exercises: Lists\n",
    "\n",
    "Using the example dataset *scores*, select only the described elements from each list:"
   ]
  },
  {
   "cell_type": "markdown",
   "id": "everyday-preparation",
   "metadata": {
    "slideshow": {
     "slide_type": "fragment"
    }
   },
   "source": [
    "0. The first score"
   ]
  },
  {
   "cell_type": "code",
   "execution_count": 1,
   "id": "found-drunk",
   "metadata": {},
   "outputs": [
    {
     "data": {
      "text/plain": [
       "0.2"
      ]
     },
     "execution_count": 1,
     "metadata": {},
     "output_type": "execute_result"
    }
   ],
   "source": [
    "(0.2, 0.3, 0.9, 1.1, 2.2, 2.9, 0.0, 0.7, 1.3, 0.3, 0.5, 0.1, 0.0)[0]"
   ]
  },
  {
   "cell_type": "markdown",
   "id": "extra-housing",
   "metadata": {
    "slideshow": {
     "slide_type": "fragment"
    }
   },
   "source": [
    "1. The third score"
   ]
  },
  {
   "cell_type": "code",
   "execution_count": 2,
   "id": "public-savage",
   "metadata": {},
   "outputs": [
    {
     "data": {
      "text/plain": [
       "0.9"
      ]
     },
     "execution_count": 2,
     "metadata": {},
     "output_type": "execute_result"
    }
   ],
   "source": [
    "(0.2, 0.3, 0.9, 1.1, 2.2, 2.9, 0.0, 0.7, 1.3, 0.3, 0.5, 0.1, 0.0) [2]"
   ]
  },
  {
   "cell_type": "markdown",
   "id": "liked-slovenia",
   "metadata": {
    "slideshow": {
     "slide_type": "subslide"
    }
   },
   "source": [
    "2. The last score"
   ]
  },
  {
   "cell_type": "code",
   "execution_count": 3,
   "id": "recovered-appreciation",
   "metadata": {},
   "outputs": [
    {
     "data": {
      "text/plain": [
       "0.0"
      ]
     },
     "execution_count": 3,
     "metadata": {},
     "output_type": "execute_result"
    }
   ],
   "source": [
    "(0.2, 0.3, 0.9, 1.1, 2.2, 2.9, 0.0, 0.7, 1.3, 0.3, 0.5, 0.1, 0.0)[-1]"
   ]
  },
  {
   "cell_type": "markdown",
   "id": "consolidated-lingerie",
   "metadata": {},
   "source": [
    "2a. The 3rd from the last score"
   ]
  },
  {
   "cell_type": "code",
   "execution_count": 4,
   "id": "agricultural-improvement",
   "metadata": {},
   "outputs": [
    {
     "data": {
      "text/plain": [
       "0.5"
      ]
     },
     "execution_count": 4,
     "metadata": {},
     "output_type": "execute_result"
    }
   ],
   "source": [
    "(0.2, 0.3, 0.9, 1.1, 2.2, 2.9, 0.0, 0.7, 1.3, 0.3, 0.5, 0.1, 0.0)[-3]"
   ]
  },
  {
   "cell_type": "markdown",
   "id": "quality-boulder",
   "metadata": {
    "slideshow": {
     "slide_type": "fragment"
    }
   },
   "source": [
    "3. The 2nd through 5th score"
   ]
  },
  {
   "cell_type": "code",
   "execution_count": 5,
   "id": "standard-disposal",
   "metadata": {},
   "outputs": [
    {
     "data": {
      "text/plain": [
       "(0.3, 0.9, 1.1, 2.2)"
      ]
     },
     "execution_count": 5,
     "metadata": {},
     "output_type": "execute_result"
    }
   ],
   "source": [
    "(0.2, 0.3, 0.9, 1.1, 2.2, 2.9, 0.0, 0.7, 1.3, 0.3, 0.5, 0.1, 0.0) [1:5]"
   ]
  },
  {
   "cell_type": "markdown",
   "id": "elegant-instruction",
   "metadata": {
    "slideshow": {
     "slide_type": "fragment"
    }
   },
   "source": [
    "4. Every second score (the first, third, fifth, etc)"
   ]
  },
  {
   "cell_type": "code",
   "execution_count": 19,
   "id": "eight-shakespeare",
   "metadata": {},
   "outputs": [
    {
     "data": {
      "text/plain": [
       "(0.2, 0.9, 2.2, 0.0, 1.3, 0.5, 0.0)"
      ]
     },
     "execution_count": 19,
     "metadata": {},
     "output_type": "execute_result"
    }
   ],
   "source": [
    "(0.2, 0.3, 0.9, 1.1, 2.2, 2.9, 0.0, 0.7, 1.3, 0.3, 0.5, 0.1, 0.0)[::2]"
   ]
  },
  {
   "cell_type": "markdown",
   "id": "popular-diagram",
   "metadata": {
    "slideshow": {
     "slide_type": "subslide"
    }
   },
   "source": [
    "5. Every score after the 4th score"
   ]
  },
  {
   "cell_type": "code",
   "execution_count": 13,
   "id": "olympic-score",
   "metadata": {},
   "outputs": [
    {
     "data": {
      "text/plain": [
       "(2.2, 2.9, 0.0, 0.7, 1.3, 0.3, 0.5, 0.1, 0.0)"
      ]
     },
     "execution_count": 13,
     "metadata": {},
     "output_type": "execute_result"
    }
   ],
   "source": [
    "(0.2, 0.3, 0.9, 1.1, 2.2, 2.9, 0.0, 0.7, 1.3, 0.3, 0.5, 0.1, 0.0) [4:]"
   ]
  },
  {
   "cell_type": "markdown",
   "id": "dying-welding",
   "metadata": {
    "slideshow": {
     "slide_type": "fragment"
    }
   },
   "source": [
    "6. Every second score from the 2nd to the 8th."
   ]
  },
  {
   "cell_type": "code",
   "execution_count": 20,
   "id": "proper-language",
   "metadata": {},
   "outputs": [
    {
     "data": {
      "text/plain": [
       "(0.3, 1.1, 2.9, 0.7)"
      ]
     },
     "execution_count": 20,
     "metadata": {},
     "output_type": "execute_result"
    }
   ],
   "source": [
    "(0.2, 0.3, 0.9, 1.1, 2.2, 2.9, 0.0, 0.7, 1.3, 0.3, 0.5, 0.1, 0.0) [1:9:2]"
   ]
  },
  {
   "cell_type": "markdown",
   "id": "lasting-visitor",
   "metadata": {},
   "source": [
    "7. Every score except the first and last."
   ]
  },
  {
   "cell_type": "code",
   "execution_count": 21,
   "id": "automotive-crowd",
   "metadata": {},
   "outputs": [
    {
     "data": {
      "text/plain": [
       "(0.3, 0.9, 1.1, 2.2, 2.9, 0.0, 0.7, 1.3, 0.3, 0.5, 0.1)"
      ]
     },
     "execution_count": 21,
     "metadata": {},
     "output_type": "execute_result"
    }
   ],
   "source": [
    "(0.2, 0.3, 0.9, 1.1, 2.2, 2.9, 0.0, 0.7, 1.3, 0.3, 0.5, 0.1, 0.0)[1:-1]"
   ]
  },
  {
   "cell_type": "code",
   "execution_count": null,
   "id": "unexpected-samba",
   "metadata": {},
   "outputs": [],
   "source": []
  },
  {
   "cell_type": "markdown",
   "id": "secondary-small",
   "metadata": {},
   "source": [
    "# Arrays\n",
    "\n",
    "**Numpy** has a very useful list-like class: the **array**.  It has one key restriction that lists don't have:  **all elements in the array have to be of the same data type (e.g. int, float, bool)**, but it has a lot of useful features that lists also don't have, starting with having functions that let you build arrays containing a wide range of starting data."
   ]
  },
  {
   "cell_type": "markdown",
   "id": "engaging-charles",
   "metadata": {
    "colab_type": "text",
    "id": "TiadUOo7Z8Y9"
   },
   "source": [
    "### Building Arrays\n",
    "\n",
    "Let's generate some arrays!  Some commonly-used are examples are **arange()**, **linspace()**, **zeros()**, and the random number generation functions in **random**.\n",
    "\n",
    "| function | Purpose |  Example |\n",
    "| :-----------: | :-------------: | :-------------: |\n",
    "| **np.array()**  | Turns a list into an array |   np.array([2, 5, 3]) |\n",
    "| **np.arange()**                  | Makes an array with all the integers between two values | np.arange(2, 7) |\n",
    "| **np.linspace()**               | Makes a specific-length array |  np.linspace(2, 3, 10) |\n",
    "| **np.zeros()**                    | Makes an array of all zeros | np.zeros(5) |\n",
    "| **np.ones()**                     | Makes an array of all ones | np.ones(3) |\n",
    "| **np.random.random()** | Makes an array of random numbers | np.random.random(100) |\n",
    "| **np.random.randn()**     | Makes an array of normally-distributed random numbers | np.random.randn(100) |\n"
   ]
  },
  {
   "cell_type": "markdown",
   "id": "average-correlation",
   "metadata": {},
   "source": [
    "#### Exercises"
   ]
  },
  {
   "cell_type": "markdown",
   "id": "caroline-graduate",
   "metadata": {},
   "source": [
    "Import the numpy package:"
   ]
  },
  {
   "cell_type": "code",
   "execution_count": 2,
   "id": "injured-scientist",
   "metadata": {},
   "outputs": [],
   "source": [
    "import numpy as np"
   ]
  },
  {
   "cell_type": "markdown",
   "id": "interpreted-management",
   "metadata": {},
   "source": [
    "Turn this list into an array:"
   ]
  },
  {
   "cell_type": "code",
   "execution_count": 23,
   "id": "lovely-order",
   "metadata": {},
   "outputs": [
    {
     "data": {
      "text/plain": [
       "array([4, 7, 6, 1])"
      ]
     },
     "execution_count": 23,
     "metadata": {},
     "output_type": "execute_result"
    }
   ],
   "source": [
    "np.array([4, 7, 6, 1])"
   ]
  },
  {
   "cell_type": "code",
   "execution_count": 25,
   "id": "1d88597d-869b-45af-a028-f7e1bcbec2d5",
   "metadata": {},
   "outputs": [
    {
     "data": {
      "text/plain": [
       "array([ 1,  2,  3,  4,  5,  6,  7,  8,  9, 10, 11, 12, 13, 14, 15])"
      ]
     },
     "execution_count": 25,
     "metadata": {},
     "output_type": "execute_result"
    }
   ],
   "source": [
    "np.arange(1,16)"
   ]
  },
  {
   "cell_type": "markdown",
   "id": "molecular-simple",
   "metadata": {
    "colab_type": "text",
    "id": "yhtqOOlKZ8ZC"
   },
   "source": [
    "Make an array containing the integers from 1 to 15."
   ]
  },
  {
   "cell_type": "code",
   "execution_count": 26,
   "id": "banned-number",
   "metadata": {
    "colab": {},
    "colab_type": "code",
    "id": "lzwPrnZcZ8ZE"
   },
   "outputs": [
    {
     "data": {
      "text/plain": [
       "array([ 1,  2,  3,  4,  5,  6,  7,  8,  9, 10, 11, 12, 13, 14, 15])"
      ]
     },
     "execution_count": 26,
     "metadata": {},
     "output_type": "execute_result"
    }
   ],
   "source": [
    "np.arange(1,16)"
   ]
  },
  {
   "cell_type": "markdown",
   "id": "quantitative-appreciation",
   "metadata": {},
   "source": [
    "Make an array of only 6 numbers between 1 and 10, evenly-spaced between them."
   ]
  },
  {
   "cell_type": "markdown",
   "id": "knowing-morning",
   "metadata": {},
   "source": [
    "np.linspace(0,2,4,6,8,10)"
   ]
  },
  {
   "cell_type": "code",
   "execution_count": 31,
   "id": "079179c5-f638-426a-bcf8-ca56bcfddd27",
   "metadata": {},
   "outputs": [
    {
     "data": {
      "text/plain": [
       "array([ 0.,  2.,  4.,  6.,  8., 10.])"
      ]
     },
     "execution_count": 31,
     "metadata": {},
     "output_type": "execute_result"
    }
   ],
   "source": [
    "np.linspace(0,10,6)"
   ]
  },
  {
   "cell_type": "markdown",
   "id": "mobile-morocco",
   "metadata": {},
   "source": [
    "This list should also be an array..."
   ]
  },
  {
   "cell_type": "code",
   "execution_count": 3,
   "id": "descending-certificate",
   "metadata": {},
   "outputs": [],
   "source": [
    "a = [True, False, False, True]"
   ]
  },
  {
   "cell_type": "markdown",
   "id": "impossible-windsor",
   "metadata": {
    "colab_type": "text",
    "id": "15ZzOLSPZ8ZI"
   },
   "source": [
    "Make an array containing 20 zeros."
   ]
  },
  {
   "cell_type": "code",
   "execution_count": 35,
   "id": "limited-residence",
   "metadata": {
    "colab": {},
    "colab_type": "code",
    "id": "eNGUx1K0Z8ZI"
   },
   "outputs": [
    {
     "data": {
      "text/plain": [
       "array([0., 0., 0., 0., 0., 0., 0., 0., 0., 0., 0., 0., 0., 0., 0., 0., 0.,\n",
       "       0., 0., 0.])"
      ]
     },
     "execution_count": 35,
     "metadata": {},
     "output_type": "execute_result"
    }
   ],
   "source": [
    "np.zeros(20)"
   ]
  },
  {
   "cell_type": "markdown",
   "id": "quality-israel",
   "metadata": {
    "colab_type": "text",
    "id": "TjRMDeh1Z8ZL"
   },
   "source": [
    "Make an array contain 20 ones!"
   ]
  },
  {
   "cell_type": "code",
   "execution_count": 38,
   "id": "breeding-muscle",
   "metadata": {
    "colab": {},
    "colab_type": "code",
    "id": "J3Y7BeuYZ8ZM"
   },
   "outputs": [
    {
     "data": {
      "text/plain": [
       "array([1., 1., 1., 1., 1., 1., 1., 1., 1., 1., 1., 1., 1., 1., 1., 1., 1.,\n",
       "       1., 1., 1.])"
      ]
     },
     "execution_count": 38,
     "metadata": {},
     "output_type": "execute_result"
    }
   ],
   "source": [
    "np.ones(20)"
   ]
  },
  {
   "cell_type": "markdown",
   "id": "certified-sunrise",
   "metadata": {},
   "source": [
    "How about an array of the 10 values between 100 and 1000?"
   ]
  },
  {
   "cell_type": "code",
   "execution_count": 42,
   "id": "incredible-wealth",
   "metadata": {},
   "outputs": [
    {
     "data": {
      "text/plain": [
       "array([ 100.,  200.,  300.,  400.,  500.,  600.,  700.,  800.,  900.,\n",
       "       1000.])"
      ]
     },
     "execution_count": 42,
     "metadata": {},
     "output_type": "execute_result"
    }
   ],
   "source": [
    "np.linspace(100,1000,10)"
   ]
  },
  {
   "cell_type": "markdown",
   "id": "freelance-carry",
   "metadata": {
    "colab_type": "text",
    "id": "dvzWUJS_Z8ZO"
   },
   "source": [
    "Generate an array of 10 random numbers from Numpy's **random** submodule, using any function you want."
   ]
  },
  {
   "cell_type": "code",
   "execution_count": 40,
   "id": "adopted-sensitivity",
   "metadata": {
    "colab": {},
    "colab_type": "code",
    "id": "_W3Xjv_BZ8ZP"
   },
   "outputs": [
    {
     "data": {
      "text/plain": [
       "array([0.20693991, 0.09032925, 0.11645247, 0.74313955, 0.84259464,\n",
       "       0.44964104, 0.9127877 , 0.64440552, 0.66576384, 0.45811838])"
      ]
     },
     "execution_count": 40,
     "metadata": {},
     "output_type": "execute_result"
    }
   ],
   "source": [
    "np.random.random(10)"
   ]
  },
  {
   "cell_type": "code",
   "execution_count": 43,
   "id": "093d9a20-e85f-4476-b4ff-19b71cb3ab3e",
   "metadata": {},
   "outputs": [
    {
     "data": {
      "text/plain": [
       "\u001b[0;31mDocstring:\u001b[0m\n",
       "random(size=None)\n",
       "\n",
       "Return random floats in the half-open interval [0.0, 1.0). Alias for\n",
       "`random_sample` to ease forward-porting to the new random API.\n",
       "\u001b[0;31mType:\u001b[0m      builtin_function_or_method\n"
      ]
     },
     "metadata": {},
     "output_type": "display_data"
    }
   ],
   "source": [
    "np.random.random?"
   ]
  },
  {
   "cell_type": "markdown",
   "id": "seventh-board",
   "metadata": {},
   "source": [
    "### Combining array generation with statistics functions\n",
    "\n",
    "These exercises all involve two steps:\n",
    "  1. Make the data\n",
    "  2. Calculate something on the data\n",
    "\n",
    "for example:\n",
    "```python\n",
    "np.mean(np.arange(1, 10))  # the mean of the integers from 1 to 9\n",
    "```"
   ]
  },
  {
   "cell_type": "markdown",
   "id": "adjustable-system",
   "metadata": {},
   "source": [
    "#### Exercises"
   ]
  },
  {
   "cell_type": "markdown",
   "id": "palestinian-disposition",
   "metadata": {},
   "source": [
    "What is the standard deviation of the integers between 2 and 20?"
   ]
  },
  {
   "cell_type": "code",
   "execution_count": 3,
   "id": "improved-vertex",
   "metadata": {},
   "outputs": [
    {
     "data": {
      "text/plain": [
       "5.188127472091127"
      ]
     },
     "execution_count": 3,
     "metadata": {},
     "output_type": "execute_result"
    }
   ],
   "source": [
    "np.std(np.arange(3,21))"
   ]
  },
  {
   "cell_type": "markdown",
   "id": "polished-falls",
   "metadata": {},
   "source": [
    "What is the standard deviation of the numbers generated from the np.random.randn() function?  "
   ]
  },
  {
   "cell_type": "code",
   "execution_count": null,
   "id": "vertical-sierra",
   "metadata": {},
   "outputs": [],
   "source": []
  },
  {
   "cell_type": "markdown",
   "id": "physical-cambodia",
   "metadata": {},
   "source": [
    "What is the sum of an array of 100 ones?"
   ]
  },
  {
   "cell_type": "code",
   "execution_count": null,
   "id": "white-element",
   "metadata": {},
   "outputs": [],
   "source": []
  },
  {
   "cell_type": "markdown",
   "id": "metric-desktop",
   "metadata": {},
   "source": [
    "What is the sum of an array of 100 zeros?"
   ]
  },
  {
   "cell_type": "code",
   "execution_count": null,
   "id": "practical-grave",
   "metadata": {},
   "outputs": [],
   "source": []
  },
  {
   "cell_type": "code",
   "execution_count": null,
   "id": "pleasant-spread",
   "metadata": {},
   "outputs": [],
   "source": []
  }
 ],
 "metadata": {
  "kernelspec": {
   "display_name": "Python 3",
   "language": "python",
   "name": "python3"
  },
  "language_info": {
   "codemirror_mode": {
    "name": "ipython",
    "version": 3
   },
   "file_extension": ".py",
   "mimetype": "text/x-python",
   "name": "python",
   "nbconvert_exporter": "python",
   "pygments_lexer": "ipython3",
   "version": "3.8.1"
  }
 },
 "nbformat": 4,
 "nbformat_minor": 5
}
